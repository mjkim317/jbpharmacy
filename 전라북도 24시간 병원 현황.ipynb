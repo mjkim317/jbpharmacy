{
 "cells": [
  {
   "cell_type": "code",
   "execution_count": null,
   "id": "1129f6e1",
   "metadata": {
    "ExecuteTime": {
     "end_time": "2023-05-17T02:19:19.936249Z",
     "start_time": "2023-05-17T02:19:18.860610Z"
    },
    "scrolled": true
   },
   "outputs": [],
   "source": [
    "import pandas as pd\n",
    "import geopandas as gpd\n",
    "from selenium import webdriver\n",
    "from selenium.webdriver.common.keys import Keys \n",
    "from selenium.common.exceptions import NoSuchElementException \n",
    "import time\n",
    "import re\n",
    "from bs4 import BeautifulSoup \n",
    "import requests\n",
    "from tqdm import tqdm \n",
    "\n",
    "df = pd.read_csv('C:/Users/user/Desktop/workplace/공공야간약국 데이터/전라북도 24시간 병원현황.csv') "
   ]
  },
  {
   "cell_type": "code",
   "execution_count": null,
   "id": "62921c62",
   "metadata": {
    "ExecuteTime": {
     "end_time": "2023-05-16T06:05:30.364844Z",
     "start_time": "2023-05-16T06:05:30.340320Z"
    },
    "scrolled": true
   },
   "outputs": [],
   "source": [
    "df = df.dropna()\n",
    "df"
   ]
  },
  {
   "cell_type": "code",
   "execution_count": null,
   "id": "2ea961c9",
   "metadata": {
    "ExecuteTime": {
     "end_time": "2023-05-16T06:05:32.366042Z",
     "start_time": "2023-05-16T06:05:30.860792Z"
    },
    "scrolled": true
   },
   "outputs": [],
   "source": [
    "\n",
    "def addr_to_lat_lon(addr):\n",
    "    url = 'https://dapi.kakao.com/v2/local/search/address.json?query={address}'.format(address=addr)\n",
    "    headers = {\"Authorization\": \"KakaoAK \" + api_key}\n",
    "    result = json.loads(str(requests.get(url, headers=headers).text))\n",
    "    try:\n",
    "        match_first = result['documents'][0]['address']\n",
    "        return float(match_first['x']), float(match_first['y'])\n",
    "    except: \n",
    "        return ''\n",
    "    \n",
    "\n",
    "print(\"1번 시작\")\n",
    "df['xy'] = df.주소.apply(lambda x : addr_to_lat_lon(x))"
   ]
  },
  {
   "cell_type": "code",
   "execution_count": null,
   "id": "cc5dcb97",
   "metadata": {
    "ExecuteTime": {
     "end_time": "2023-05-16T06:05:32.970922Z",
     "start_time": "2023-05-16T06:05:32.951969Z"
    },
    "scrolled": true
   },
   "outputs": [],
   "source": [
    "df['xy'] = df['xy'].astype(str)"
   ]
  },
  {
   "cell_type": "code",
   "execution_count": null,
   "id": "e4971c9c",
   "metadata": {
    "ExecuteTime": {
     "end_time": "2023-05-16T06:05:33.419312Z",
     "start_time": "2023-05-16T06:05:33.409508Z"
    }
   },
   "outputs": [],
   "source": [
    "df['x'] = df['xy'].apply(lambda x : x.split(\",\")[0])\n",
    "df['y'] = df['xy'].apply(lambda x : x.split(\",\")[-1])"
   ]
  },
  {
   "cell_type": "code",
   "execution_count": null,
   "id": "543b267c",
   "metadata": {
    "ExecuteTime": {
     "end_time": "2023-05-16T06:05:34.057941Z",
     "start_time": "2023-05-16T06:05:34.052147Z"
    },
    "scrolled": true
   },
   "outputs": [],
   "source": [
    "df['x'] = df['x'].str.replace(\"(\",\"\")\n",
    "df['y'] = df['y'].str.replace(\")\",\"\")"
   ]
  },
  {
   "cell_type": "code",
   "execution_count": null,
   "id": "54f874d7",
   "metadata": {
    "ExecuteTime": {
     "end_time": "2023-05-16T06:05:34.384515Z",
     "start_time": "2023-05-16T06:05:34.358420Z"
    },
    "scrolled": true
   },
   "outputs": [],
   "source": [
    "df"
   ]
  },
  {
   "cell_type": "code",
   "execution_count": null,
   "id": "ed07c3b8",
   "metadata": {
    "ExecuteTime": {
     "end_time": "2023-05-16T06:11:26.577470Z",
     "start_time": "2023-05-16T06:11:26.565404Z"
    },
    "scrolled": true
   },
   "outputs": [],
   "source": [
    "gdf = geopandas.GeoDataFrame(\n",
    "    df, geometry=geopandas.points_from_xy(df.x, df.y))"
   ]
  },
  {
   "cell_type": "code",
   "execution_count": null,
   "id": "ef972739",
   "metadata": {
    "ExecuteTime": {
     "end_time": "2023-05-16T06:11:27.837989Z",
     "start_time": "2023-05-16T06:11:27.817306Z"
    },
    "scrolled": true
   },
   "outputs": [],
   "source": [
    "gdf"
   ]
  },
  {
   "cell_type": "code",
   "execution_count": null,
   "id": "5fee3d7d",
   "metadata": {
    "ExecuteTime": {
     "end_time": "2023-05-16T06:11:47.997818Z",
     "start_time": "2023-05-16T06:11:47.892596Z"
    }
   },
   "outputs": [],
   "source": [
    "gdf.to_file('jb_hospital_v2.gpkg', driver='GPKG', encoding = \"cp949\")"
   ]
  },
  {
   "cell_type": "code",
   "execution_count": null,
   "id": "e1a85e6c",
   "metadata": {
    "ExecuteTime": {
     "end_time": "2023-05-16T05:48:46.757377Z",
     "start_time": "2023-05-16T05:48:46.742377Z"
    }
   },
   "outputs": [],
   "source": [
    "df['xy2'] = df['xy'].str.replace(\"(\",\"\")"
   ]
  },
  {
   "cell_type": "code",
   "execution_count": null,
   "id": "fb66d61e",
   "metadata": {
    "ExecuteTime": {
     "end_time": "2023-05-16T05:48:47.596428Z",
     "start_time": "2023-05-16T05:48:47.570428Z"
    },
    "scrolled": true
   },
   "outputs": [],
   "source": [
    "df"
   ]
  },
  {
   "cell_type": "code",
   "execution_count": null,
   "id": "77831550",
   "metadata": {
    "ExecuteTime": {
     "end_time": "2023-05-16T05:42:28.647492Z",
     "start_time": "2023-05-16T05:42:28.634456Z"
    }
   },
   "outputs": [],
   "source": [
    "aa = \"(127.141059767822, 35.8479659003154)\""
   ]
  },
  {
   "cell_type": "code",
   "execution_count": null,
   "id": "0d3de259",
   "metadata": {
    "ExecuteTime": {
     "end_time": "2023-05-16T05:42:28.663219Z",
     "start_time": "2023-05-16T05:42:28.648458Z"
    }
   },
   "outputs": [],
   "source": [
    "aa[1:-1]"
   ]
  },
  {
   "cell_type": "code",
   "execution_count": null,
   "id": "786c57e4",
   "metadata": {
    "ExecuteTime": {
     "end_time": "2023-05-16T05:42:28.679260Z",
     "start_time": "2023-05-16T05:42:28.665219Z"
    }
   },
   "outputs": [],
   "source": [
    "df['xy'][0]"
   ]
  },
  {
   "cell_type": "code",
   "execution_count": null,
   "id": "1efd66bc",
   "metadata": {
    "ExecuteTime": {
     "end_time": "2023-05-16T05:42:28.804995Z",
     "start_time": "2023-05-16T05:42:28.785989Z"
    },
    "scrolled": true
   },
   "outputs": [],
   "source": [
    "df['xy'] = df['xy'].str.replace(r\"\\(.*\\)\",\"\")"
   ]
  },
  {
   "cell_type": "code",
   "execution_count": null,
   "id": "fd3aae79",
   "metadata": {
    "ExecuteTime": {
     "end_time": "2023-05-16T05:42:30.171172Z",
     "start_time": "2023-05-16T05:42:30.148091Z"
    },
    "scrolled": true
   },
   "outputs": [],
   "source": [
    "df"
   ]
  },
  {
   "cell_type": "code",
   "execution_count": null,
   "id": "e6a777a1",
   "metadata": {
    "ExecuteTime": {
     "end_time": "2023-05-16T05:39:04.117721Z",
     "start_time": "2023-05-16T05:39:04.101691Z"
    }
   },
   "outputs": [],
   "source": [
    "df"
   ]
  },
  {
   "cell_type": "code",
   "execution_count": null,
   "id": "da314b73",
   "metadata": {
    "ExecuteTime": {
     "end_time": "2023-05-16T05:29:58.433108Z",
     "start_time": "2023-05-16T05:29:58.371077Z"
    },
    "scrolled": true
   },
   "outputs": [],
   "source": [
    "for i in range(0,len(df)):\n",
    "    df['xy'][i] = df['xy'][i][1:-1]"
   ]
  },
  {
   "cell_type": "code",
   "execution_count": null,
   "id": "df6b0118",
   "metadata": {},
   "outputs": [],
   "source": []
  },
  {
   "cell_type": "code",
   "execution_count": null,
   "id": "08a9db88",
   "metadata": {
    "ExecuteTime": {
     "end_time": "2023-05-16T05:27:57.842694Z",
     "start_time": "2023-05-16T05:27:57.828700Z"
    }
   },
   "outputs": [],
   "source": [
    "df"
   ]
  },
  {
   "cell_type": "code",
   "execution_count": null,
   "id": "b91561a8",
   "metadata": {
    "ExecuteTime": {
     "end_time": "2023-05-16T05:24:44.447600Z",
     "start_time": "2023-05-16T05:24:44.432708Z"
    },
    "scrolled": true
   },
   "outputs": [],
   "source": [
    "df['x'] = df['xy'].apply(lambda x : x.split(\",\")[0])\n",
    "df['y'] = df['xy'].apply(lambda x : x.split(\",\")[-1])"
   ]
  },
  {
   "cell_type": "code",
   "execution_count": null,
   "id": "c4e695c1",
   "metadata": {
    "ExecuteTime": {
     "end_time": "2023-05-16T05:27:34.005156Z",
     "start_time": "2023-05-16T05:27:33.992344Z"
    }
   },
   "outputs": [],
   "source": [
    "df['x'] = df['x'].str.replace(r\"([0-9]+)$\",\"\")"
   ]
  },
  {
   "cell_type": "code",
   "execution_count": null,
   "id": "1c8b7cce",
   "metadata": {
    "ExecuteTime": {
     "end_time": "2023-05-16T05:27:34.578869Z",
     "start_time": "2023-05-16T05:27:34.563067Z"
    }
   },
   "outputs": [],
   "source": [
    "df"
   ]
  },
  {
   "cell_type": "code",
   "execution_count": null,
   "id": "10d6e592",
   "metadata": {
    "ExecuteTime": {
     "end_time": "2023-05-17T02:19:22.830987Z",
     "start_time": "2023-05-17T02:19:22.519460Z"
    }
   },
   "outputs": [],
   "source": [
    "gdf_pharm = gpd.read_file(\"C:/Users/user/Desktop/workplace/result/공공야간약국_분석결과_zscore포함_300m(geofile).gpkg\")"
   ]
  },
  {
   "cell_type": "code",
   "execution_count": null,
   "id": "658566f9",
   "metadata": {
    "ExecuteTime": {
     "end_time": "2023-05-17T02:19:25.035985Z",
     "start_time": "2023-05-17T02:19:24.989173Z"
    }
   },
   "outputs": [],
   "source": [
    "gdf_pharm"
   ]
  },
  {
   "cell_type": "code",
   "execution_count": null,
   "id": "fd9b8c38",
   "metadata": {
    "ExecuteTime": {
     "end_time": "2023-05-17T02:19:34.939040Z",
     "start_time": "2023-05-17T02:19:34.872916Z"
    }
   },
   "outputs": [],
   "source": [
    "gdf_pharm['geometry'] = gdf_pharm['geometry'].buffer(300)"
   ]
  },
  {
   "cell_type": "code",
   "execution_count": null,
   "id": "f4f3143c",
   "metadata": {
    "ExecuteTime": {
     "end_time": "2023-05-17T02:19:36.960038Z",
     "start_time": "2023-05-17T02:19:36.913219Z"
    },
    "scrolled": true
   },
   "outputs": [],
   "source": [
    "gdf_pharm"
   ]
  },
  {
   "cell_type": "code",
   "execution_count": null,
   "id": "4384ccfc",
   "metadata": {
    "ExecuteTime": {
     "end_time": "2023-05-17T02:20:43.969497Z",
     "start_time": "2023-05-17T02:20:43.966079Z"
    }
   },
   "outputs": [],
   "source": []
  },
  {
   "cell_type": "code",
   "execution_count": null,
   "id": "da8fa9e7",
   "metadata": {
    "ExecuteTime": {
     "end_time": "2023-05-17T02:20:49.204484Z",
     "start_time": "2023-05-17T02:20:48.484918Z"
    }
   },
   "outputs": [],
   "source": [
    "gdf_pharm.to_file(add + \"공공야간약국_분석결과_zscore포함_300m(geofile).gpkg\", encoding= \"cp949\")"
   ]
  },
  {
   "cell_type": "code",
   "execution_count": null,
   "id": "4aa3c65c",
   "metadata": {},
   "outputs": [],
   "source": []
  }
 ],
 "metadata": {
  "kernelspec": {
   "display_name": "Python 3 (ipykernel)",
   "language": "python",
   "name": "python3"
  },
  "language_info": {
   "codemirror_mode": {
    "name": "ipython",
    "version": 3
   },
   "file_extension": ".py",
   "mimetype": "text/x-python",
   "name": "python",
   "nbconvert_exporter": "python",
   "pygments_lexer": "ipython3",
   "version": "3.11.4"
  },
  "toc": {
   "base_numbering": 1,
   "nav_menu": {},
   "number_sections": true,
   "sideBar": true,
   "skip_h1_title": false,
   "title_cell": "Table of Contents",
   "title_sidebar": "Contents",
   "toc_cell": false,
   "toc_position": {},
   "toc_section_display": true,
   "toc_window_display": false
  }
 },
 "nbformat": 4,
 "nbformat_minor": 5
}
