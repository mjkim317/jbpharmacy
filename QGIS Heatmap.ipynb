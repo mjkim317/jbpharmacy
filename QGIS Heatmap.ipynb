{
 "cells": [
  {
   "cell_type": "code",
   "execution_count": null,
   "id": "8f7038cb",
   "metadata": {
    "ExecuteTime": {
     "end_time": "2023-06-02T08:23:29.240925Z",
     "start_time": "2023-06-02T08:23:29.229285Z"
    }
   },
   "outputs": [],
   "source": [
    "import pandas as pd\n",
    "import geopandas as gpd"
   ]
  },
  {
   "cell_type": "code",
   "execution_count": null,
   "id": "078e6e87",
   "metadata": {
    "ExecuteTime": {
     "end_time": "2023-05-18T00:48:27.633616Z",
     "start_time": "2023-05-18T00:48:27.453341Z"
    }
   },
   "outputs": [],
   "source": [
    "df300 = pd.read_csv(\"C:/Users/user/Desktop/workplace/result/공공야간약국_분석결과_zscore포함_300m_v0.2.csv\", encoding = \"cp949\", index_col = 0)\n",
    "df500 = pd.read_csv(\"C:/Users/user/Desktop/workplace/result/공공야간약국_분석결과_zscore포함_500m_v0.2.csv\", encoding = \"cp949\", index_col = 0)\n",
    "df1000 = pd.read_csv(\"C:/Users/user/Desktop/workplace/result/공공야간약국_분석결과_zscore포함_1km_v0.2.csv\", encoding = \"cp949\", index_col = 0)"
   ]
  },
  {
   "cell_type": "code",
   "execution_count": null,
   "id": "0e2e48b0",
   "metadata": {
    "ExecuteTime": {
     "end_time": "2023-05-18T00:48:28.177979Z",
     "start_time": "2023-05-18T00:48:28.117433Z"
    },
    "scrolled": true
   },
   "outputs": [],
   "source": [
    "df300"
   ]
  },
  {
   "cell_type": "code",
   "execution_count": null,
   "id": "03591b0f",
   "metadata": {
    "ExecuteTime": {
     "end_time": "2023-05-18T00:48:28.892319Z",
     "start_time": "2023-05-18T00:48:28.886794Z"
    }
   },
   "outputs": [],
   "source": [
    "df300 = df300[['index','Percentile Mean']]"
   ]
  },
  {
   "cell_type": "code",
   "execution_count": null,
   "id": "68955821",
   "metadata": {
    "ExecuteTime": {
     "end_time": "2023-05-18T00:48:29.655964Z",
     "start_time": "2023-05-18T00:48:29.291020Z"
    }
   },
   "outputs": [],
   "source": [
    "jb_pharm = gpd.read_file(\"C:/Users/user/Desktop/workplace/result/heatmap/jb_pharm.gpkg\", encoding = \"cp949\", index_col = 0)"
   ]
  },
  {
   "cell_type": "code",
   "execution_count": null,
   "id": "fd770e04",
   "metadata": {
    "ExecuteTime": {
     "end_time": "2023-05-18T00:48:31.313105Z",
     "start_time": "2023-05-18T00:48:31.298033Z"
    },
    "scrolled": true
   },
   "outputs": [],
   "source": [
    "jb_pharm.reset_index(inplace = True)"
   ]
  },
  {
   "cell_type": "code",
   "execution_count": null,
   "id": "dcdb6239",
   "metadata": {
    "ExecuteTime": {
     "end_time": "2023-05-18T00:48:32.299751Z",
     "start_time": "2023-05-18T00:48:32.253109Z"
    },
    "scrolled": true
   },
   "outputs": [],
   "source": [
    "jb_pharm"
   ]
  },
  {
   "cell_type": "code",
   "execution_count": null,
   "id": "44d9e88f",
   "metadata": {
    "ExecuteTime": {
     "end_time": "2023-05-18T00:48:46.103213Z",
     "start_time": "2023-05-18T00:48:46.085698Z"
    }
   },
   "outputs": [],
   "source": [
    "df300"
   ]
  },
  {
   "cell_type": "code",
   "execution_count": null,
   "id": "9c4fe572",
   "metadata": {
    "ExecuteTime": {
     "end_time": "2023-05-18T00:48:47.634212Z",
     "start_time": "2023-05-18T00:48:47.625285Z"
    },
    "scrolled": true
   },
   "outputs": [],
   "source": [
    "jb_pharm.rename(columns = {'고유번호' : 'index'}, inplace = True)"
   ]
  },
  {
   "cell_type": "code",
   "execution_count": null,
   "id": "598417c4",
   "metadata": {
    "ExecuteTime": {
     "end_time": "2023-05-18T00:48:47.868222Z",
     "start_time": "2023-05-18T00:48:47.843655Z"
    },
    "scrolled": true
   },
   "outputs": [],
   "source": [
    "jb_pharm = jb_pharm.merge(df300, on = \"index\", how = \"inner\")"
   ]
  },
  {
   "cell_type": "code",
   "execution_count": null,
   "id": "1f52e361",
   "metadata": {
    "ExecuteTime": {
     "end_time": "2023-05-18T00:48:48.038203Z",
     "start_time": "2023-05-18T00:48:48.021071Z"
    }
   },
   "outputs": [],
   "source": [
    "jb_pharm['시군구코드명'].value_counts()"
   ]
  },
  {
   "cell_type": "code",
   "execution_count": null,
   "id": "48cf2eea",
   "metadata": {
    "ExecuteTime": {
     "end_time": "2023-05-18T00:48:48.568949Z",
     "start_time": "2023-05-18T00:48:48.527827Z"
    },
    "scrolled": true
   },
   "outputs": [],
   "source": [
    "jb_pharm.sort_values(by = 'Percentile Mean', ascending = False)"
   ]
  },
  {
   "cell_type": "code",
   "execution_count": null,
   "id": "8d53cf69",
   "metadata": {
    "ExecuteTime": {
     "end_time": "2023-05-18T01:59:03.582507Z",
     "start_time": "2023-05-18T01:59:03.530058Z"
    },
    "scrolled": true
   },
   "outputs": [],
   "source": [
    "add = \"C:/Users/user/Desktop/workplace/result/heatmap/\"\n",
    "jb_jeonju_deokjin.to_file(add + \"진안군.gpkg\", encoding = \"cp949\")"
   ]
  },
  {
   "cell_type": "code",
   "execution_count": null,
   "id": "30a088ce",
   "metadata": {
    "ExecuteTime": {
     "end_time": "2023-05-18T04:19:11.161788Z",
     "start_time": "2023-05-18T04:19:10.791296Z"
    }
   },
   "outputs": [],
   "source": [
    "gdf_jb = gpd.read_file(\"C:/Users/user/Desktop/workplace/행정구역SHP/SIG_202101/SGG.shp\", encoding = \"cp949\")"
   ]
  },
  {
   "cell_type": "code",
   "execution_count": null,
   "id": "d58535fe",
   "metadata": {
    "ExecuteTime": {
     "end_time": "2023-05-18T06:22:44.521913Z",
     "start_time": "2023-05-18T06:22:44.467050Z"
    }
   },
   "outputs": [],
   "source": [
    "booahn_heat = gpd.read_file(\"../result/heatmap/geofile result/wanjoo_heatmap_vector.gpkg\",encoding = \"cp949\")\n",
    "\n",
    "booahn_heat.reset_index(inplace = True)\n",
    "\n",
    "booahn_heat.rename(columns = {'index' : 'index(heatmap)'}, inplace = True)"
   ]
  },
  {
   "cell_type": "code",
   "execution_count": null,
   "id": "a65c7684",
   "metadata": {
    "ExecuteTime": {
     "end_time": "2023-05-18T06:22:45.228146Z",
     "start_time": "2023-05-18T06:22:45.196145Z"
    },
    "scrolled": true
   },
   "outputs": [],
   "source": [
    "booahn_heat"
   ]
  },
  {
   "cell_type": "code",
   "execution_count": null,
   "id": "1d940722",
   "metadata": {
    "ExecuteTime": {
     "end_time": "2023-05-18T06:22:48.745272Z",
     "start_time": "2023-05-18T06:22:48.481380Z"
    }
   },
   "outputs": [],
   "source": [
    "gdf300 = gpd.read_file(\"../result/공공야간약국_분석결과_zscore포함_300m(geofile)_v0.2.gpkg\")"
   ]
  },
  {
   "cell_type": "code",
   "execution_count": null,
   "id": "b5b644bf",
   "metadata": {
    "ExecuteTime": {
     "end_time": "2023-05-18T06:22:49.092674Z",
     "start_time": "2023-05-18T06:22:48.859169Z"
    }
   },
   "outputs": [],
   "source": [
    "gdf_join = gpd.overlay(booahn_heat,gdf300, how = \"intersection\")"
   ]
  },
  {
   "cell_type": "code",
   "execution_count": null,
   "id": "f9ce8264",
   "metadata": {
    "ExecuteTime": {
     "end_time": "2023-05-18T06:22:49.616293Z",
     "start_time": "2023-05-18T06:22:49.572800Z"
    },
    "scrolled": true
   },
   "outputs": [],
   "source": [
    "gdf_join"
   ]
  },
  {
   "cell_type": "code",
   "execution_count": null,
   "id": "0d2dc363",
   "metadata": {
    "ExecuteTime": {
     "end_time": "2023-05-18T06:22:50.208576Z",
     "start_time": "2023-05-18T06:22:50.147933Z"
    },
    "scrolled": true
   },
   "outputs": [],
   "source": [
    "gdf_join = gdf_join[gdf_join['DN'] == 1]\n",
    "gdf_join"
   ]
  },
  {
   "cell_type": "code",
   "execution_count": null,
   "id": "42c86a3e",
   "metadata": {
    "ExecuteTime": {
     "end_time": "2023-05-18T06:22:52.870535Z",
     "start_time": "2023-05-18T06:22:52.818258Z"
    },
    "scrolled": true
   },
   "outputs": [],
   "source": [
    "gdf_join.sort_values(by = 'Percentile Mean', ascending = False)"
   ]
  },
  {
   "cell_type": "code",
   "execution_count": null,
   "id": "628b2bab",
   "metadata": {
    "ExecuteTime": {
     "end_time": "2023-05-18T06:22:54.840490Z",
     "start_time": "2023-05-18T06:22:54.583380Z"
    }
   },
   "outputs": [],
   "source": [
    "add = \"C:/Users/user/Desktop/workplace/result/heatmap/시군구 별 최종입지약국/\"\n",
    "gdf_join.to_csv(add + \"완주군.csv\",encoding = \"cp949\")"
   ]
  },
  {
   "cell_type": "code",
   "execution_count": null,
   "id": "94988bb4",
   "metadata": {
    "ExecuteTime": {
     "end_time": "2023-05-18T05:21:39.885754Z",
     "start_time": "2023-05-18T05:21:39.848359Z"
    },
    "scrolled": true
   },
   "outputs": [],
   "source": [
    "gunsan_heat"
   ]
  },
  {
   "cell_type": "code",
   "execution_count": null,
   "id": "aae64287",
   "metadata": {
    "ExecuteTime": {
     "end_time": "2023-05-18T06:17:53.757942Z",
     "start_time": "2023-05-18T06:17:53.700280Z"
    },
    "scrolled": true
   },
   "outputs": [],
   "source": [
    "gdf300[gdf300['시군구코드명'] == \"완주군\"]"
   ]
  },
  {
   "cell_type": "code",
   "execution_count": null,
   "id": "28991032",
   "metadata": {
    "ExecuteTime": {
     "end_time": "2023-05-18T08:20:08.956352Z",
     "start_time": "2023-05-18T08:20:08.915774Z"
    },
    "scrolled": true
   },
   "outputs": [],
   "source": [
    "gdf300"
   ]
  },
  {
   "cell_type": "code",
   "execution_count": null,
   "id": "d24fcf3b",
   "metadata": {
    "ExecuteTime": {
     "end_time": "2023-05-18T08:20:20.501539Z",
     "start_time": "2023-05-18T08:20:20.485080Z"
    }
   },
   "outputs": [],
   "source": [
    "gdf300[['최단학교거리(m)']]"
   ]
  },
  {
   "cell_type": "code",
   "execution_count": null,
   "id": "45542344",
   "metadata": {
    "ExecuteTime": {
     "end_time": "2023-05-19T02:28:00.153344Z",
     "start_time": "2023-05-19T02:27:59.821250Z"
    }
   },
   "outputs": [],
   "source": [
    "jb_only = gpd.read_file(\"C:/Users/user/Desktop/workplace/행정구역SHP/jb_only_v0.3.shp\")"
   ]
  },
  {
   "cell_type": "code",
   "execution_count": null,
   "id": "0aeffe94",
   "metadata": {
    "ExecuteTime": {
     "end_time": "2023-05-19T02:28:03.089511Z",
     "start_time": "2023-05-19T02:28:02.536707Z"
    },
    "scrolled": true
   },
   "outputs": [],
   "source": [
    "jb_only"
   ]
  },
  {
   "cell_type": "code",
   "execution_count": null,
   "id": "283a02ee",
   "metadata": {
    "ExecuteTime": {
     "end_time": "2023-05-19T04:17:00.454718Z",
     "start_time": "2023-05-19T04:17:00.034017Z"
    }
   },
   "outputs": [],
   "source": [
    "jb_only = gpd.read_file(\"C:/Users/user/Desktop/workplace/행정구역SHP/SIG_202101/TL_SCCO_SIG.shp\", encoding = \"cp949\")"
   ]
  },
  {
   "cell_type": "code",
   "execution_count": null,
   "id": "a27c9b32",
   "metadata": {
    "ExecuteTime": {
     "end_time": "2023-05-19T04:17:39.930042Z",
     "start_time": "2023-05-19T04:17:39.918820Z"
    }
   },
   "outputs": [],
   "source": [
    "jb_jeonju = jb_only[jb_only['SIG_KOR_NM'] == \"전주시완산구\"]"
   ]
  },
  {
   "cell_type": "code",
   "execution_count": null,
   "id": "a8ea2fa8",
   "metadata": {
    "ExecuteTime": {
     "end_time": "2023-05-19T04:18:08.966730Z",
     "start_time": "2023-05-19T04:18:08.790490Z"
    }
   },
   "outputs": [],
   "source": [
    "jb_jeonju.to_file(\"jb_jeonju.gpkg\", driver = \"GPKG\", encoding = \"cp949\")"
   ]
  },
  {
   "cell_type": "code",
   "execution_count": null,
   "id": "249126a1",
   "metadata": {
    "ExecuteTime": {
     "end_time": "2023-05-22T06:27:21.013489Z",
     "start_time": "2023-05-22T06:27:20.956075Z"
    }
   },
   "outputs": [],
   "source": [
    "df = pd.read_csv(\"C:/Users/user/Desktop/workplace/result/공공야간약국_분석결과_zscore포함_300m_v0.2.csv\",\n",
    "                encoding = \"cp949\", index_col = 0)"
   ]
  },
  {
   "cell_type": "code",
   "execution_count": null,
   "id": "6cd36478",
   "metadata": {
    "ExecuteTime": {
     "end_time": "2023-05-22T06:27:21.323937Z",
     "start_time": "2023-05-22T06:27:21.284180Z"
    },
    "scrolled": true
   },
   "outputs": [],
   "source": [
    "df"
   ]
  },
  {
   "cell_type": "code",
   "execution_count": null,
   "id": "eb59dc9c",
   "metadata": {
    "ExecuteTime": {
     "end_time": "2023-05-22T06:27:21.776929Z",
     "start_time": "2023-05-22T06:27:21.770960Z"
    }
   },
   "outputs": [],
   "source": [
    "df.columns"
   ]
  },
  {
   "cell_type": "code",
   "execution_count": null,
   "id": "cac7e71d",
   "metadata": {
    "ExecuteTime": {
     "end_time": "2023-05-22T06:34:38.866024Z",
     "start_time": "2023-05-22T06:34:38.847024Z"
    },
    "scrolled": true
   },
   "outputs": [],
   "source": [
    "df1 = pd.read_csv(\"C:/Users/user/Desktop/workplace/result/heatmap/시군구 별 최종입지약국/진안군.csv\",\n",
    "                 encoding = \"cp949\", index_col = 0)"
   ]
  },
  {
   "cell_type": "code",
   "execution_count": null,
   "id": "fcff1469",
   "metadata": {
    "ExecuteTime": {
     "end_time": "2023-05-22T06:34:39.190876Z",
     "start_time": "2023-05-22T06:34:39.175917Z"
    }
   },
   "outputs": [],
   "source": [
    "len(df1.columns)"
   ]
  },
  {
   "cell_type": "code",
   "execution_count": null,
   "id": "503657bf",
   "metadata": {
    "ExecuteTime": {
     "end_time": "2023-05-22T06:34:39.394159Z",
     "start_time": "2023-05-22T06:34:39.377041Z"
    }
   },
   "outputs": [],
   "source": [
    "df.columns"
   ]
  },
  {
   "cell_type": "code",
   "execution_count": null,
   "id": "9a8ee7fd",
   "metadata": {
    "ExecuteTime": {
     "end_time": "2023-05-22T06:34:39.675372Z",
     "start_time": "2023-05-22T06:34:39.667706Z"
    }
   },
   "outputs": [],
   "source": [
    "df = df[['최단거리 학교명','최단학교거리(m) Percentile','index']]"
   ]
  },
  {
   "cell_type": "code",
   "execution_count": null,
   "id": "1a2f09ea",
   "metadata": {
    "ExecuteTime": {
     "end_time": "2023-05-22T06:34:40.171877Z",
     "start_time": "2023-05-22T06:34:40.150876Z"
    }
   },
   "outputs": [],
   "source": [
    "df"
   ]
  },
  {
   "cell_type": "code",
   "execution_count": null,
   "id": "d761135e",
   "metadata": {
    "ExecuteTime": {
     "end_time": "2023-05-22T06:34:40.607826Z",
     "start_time": "2023-05-22T06:34:40.596562Z"
    }
   },
   "outputs": [],
   "source": [
    "df1 = df1.merge(df,on = \"index\", how = \"inner\")"
   ]
  },
  {
   "cell_type": "code",
   "execution_count": null,
   "id": "f6762159",
   "metadata": {
    "ExecuteTime": {
     "end_time": "2023-05-22T06:34:41.436154Z",
     "start_time": "2023-05-22T06:34:41.426025Z"
    }
   },
   "outputs": [],
   "source": [
    "df1.columns"
   ]
  },
  {
   "cell_type": "code",
   "execution_count": null,
   "id": "75e3e08d",
   "metadata": {
    "ExecuteTime": {
     "end_time": "2023-05-22T06:34:41.999521Z",
     "start_time": "2023-05-22T06:34:41.979546Z"
    }
   },
   "outputs": [],
   "source": [
    "len(df1.columns)"
   ]
  },
  {
   "cell_type": "code",
   "execution_count": null,
   "id": "7473449d",
   "metadata": {
    "ExecuteTime": {
     "end_time": "2023-05-22T06:34:44.547692Z",
     "start_time": "2023-05-22T06:34:44.528113Z"
    }
   },
   "outputs": [],
   "source": [
    "add = \"C:/Users/user/Desktop/workplace/result/heatmap/시군구 별 최종입지약국/\"\n",
    "df1.to_csv(add + \"진안군_v0.2.csv\", encoding = \"cp949\")"
   ]
  },
  {
   "cell_type": "code",
   "execution_count": null,
   "id": "3c498f86",
   "metadata": {},
   "outputs": [],
   "source": []
  },
  {
   "cell_type": "code",
   "execution_count": null,
   "id": "31c2166c",
   "metadata": {},
   "outputs": [],
   "source": []
  },
  {
   "cell_type": "code",
   "execution_count": null,
   "id": "82c2f457",
   "metadata": {},
   "outputs": [],
   "source": []
  },
  {
   "cell_type": "code",
   "execution_count": null,
   "id": "ceb07a4f",
   "metadata": {},
   "outputs": [],
   "source": []
  }
 ],
 "metadata": {
  "kernelspec": {
   "display_name": "Python 3 (ipykernel)",
   "language": "python",
   "name": "python3"
  },
  "language_info": {
   "codemirror_mode": {
    "name": "ipython",
    "version": 3
   },
   "file_extension": ".py",
   "mimetype": "text/x-python",
   "name": "python",
   "nbconvert_exporter": "python",
   "pygments_lexer": "ipython3",
   "version": "3.11.4"
  },
  "toc": {
   "base_numbering": 1,
   "nav_menu": {},
   "number_sections": true,
   "sideBar": true,
   "skip_h1_title": false,
   "title_cell": "Table of Contents",
   "title_sidebar": "Contents",
   "toc_cell": false,
   "toc_position": {},
   "toc_section_display": true,
   "toc_window_display": false
  }
 },
 "nbformat": 4,
 "nbformat_minor": 5
}
