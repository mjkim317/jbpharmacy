{
 "cells": [
  {
   "cell_type": "raw",
   "id": "7ca8a55b",
   "metadata": {
    "ExecuteTime": {
     "end_time": "2023-05-22T00:37:09.946496Z",
     "start_time": "2023-05-22T00:37:06.174207Z"
    }
   },
   "source": [
    "import pandas as pd\n",
    "import geopandas as gpd\n",
    "import seaborn as sns\n",
    "from geopy.geocoders import Nominatim\n",
    "import warnings \n",
    "import matplotlib.pyplot as plt\n",
    "warnings.filterwarnings('ignore')"
   ]
  },
  {
   "cell_type": "code",
   "execution_count": null,
   "id": "2f2f068c",
   "metadata": {
    "ExecuteTime": {
     "end_time": "2023-05-03T07:07:58.815721Z",
     "start_time": "2023-05-03T07:07:58.788825Z"
    }
   },
   "outputs": [],
   "source": [
    "df_bus_pharm = pd.read_csv(\"C:/Users/user/Desktop/workplace/result/jb_pharm_distance(csv).csv\", encoding = \"euc-kr\")"
   ]
  },
  {
   "cell_type": "code",
   "execution_count": null,
   "id": "ade96159",
   "metadata": {
    "ExecuteTime": {
     "end_time": "2023-05-03T07:04:41.005475Z",
     "start_time": "2023-05-03T07:04:40.997915Z"
    },
    "scrolled": true
   },
   "outputs": [],
   "source": [
    "df_bus_pharm = df_bus_pharm.reset_index()"
   ]
  },
  {
   "cell_type": "code",
   "execution_count": null,
   "id": "5566e960",
   "metadata": {
    "ExecuteTime": {
     "end_time": "2023-05-03T07:04:46.242082Z",
     "start_time": "2023-05-03T07:04:46.214387Z"
    },
    "scrolled": true
   },
   "outputs": [],
   "source": [
    "df_bus_pharm"
   ]
  },
  {
   "cell_type": "code",
   "execution_count": null,
   "id": "02f20784",
   "metadata": {
    "ExecuteTime": {
     "end_time": "2023-05-03T07:04:19.473895Z",
     "start_time": "2023-05-03T07:04:19.443132Z"
    },
    "scrolled": true
   },
   "outputs": [],
   "source": [
    "df_infant"
   ]
  },
  {
   "cell_type": "code",
   "execution_count": null,
   "id": "354ab15e",
   "metadata": {
    "ExecuteTime": {
     "end_time": "2023-05-03T06:44:59.699246Z",
     "start_time": "2023-05-03T06:44:59.659889Z"
    }
   },
   "outputs": [],
   "source": [
    "df_senior = pd.read_csv(\"C:/Users/user/Desktop/workplace/result/약국 별 생활인구+세대수(고령층).csv\", encoding = \"euc-kr\")\n",
    "df_infant = pd.read_csv(\"C:/Users/user/Desktop/workplace/result/약국 별 생활인구+세대수(유아층).csv\", encoding = \"euc-kr\")\n",
    "df_all_age = pd.read_csv(\"C:/Users/user/Desktop/workplace/result/약국 별 생활인구+세대수(전체연령층).csv\", encoding = \"euc-kr\")"
   ]
  },
  {
   "cell_type": "code",
   "execution_count": null,
   "id": "ee9e7fa0",
   "metadata": {
    "ExecuteTime": {
     "end_time": "2023-05-03T06:45:49.814684Z",
     "start_time": "2023-05-03T06:45:49.799934Z"
    }
   },
   "outputs": [],
   "source": [
    "#어짜피 취약계층이 타겟임으로 유아층과 노년층의 인구를 합해버리고 그 합계를 base로 z-score를 구함\n",
    "df_senior = df_senior[['index','요양기관명','VAL','세대수']]"
   ]
  },
  {
   "cell_type": "code",
   "execution_count": null,
   "id": "fba5e98f",
   "metadata": {
    "ExecuteTime": {
     "end_time": "2023-05-03T06:45:52.878006Z",
     "start_time": "2023-05-03T06:45:52.862327Z"
    },
    "scrolled": true
   },
   "outputs": [],
   "source": [
    "df_senior"
   ]
  },
  {
   "cell_type": "code",
   "execution_count": null,
   "id": "40c603a1",
   "metadata": {
    "ExecuteTime": {
     "end_time": "2023-05-03T06:45:58.567176Z",
     "start_time": "2023-05-03T06:45:58.548344Z"
    }
   },
   "outputs": [],
   "source": [
    "df_senior_infant = df_infant.merge(df_senior, on = \"index\", how = \"inner\")"
   ]
  },
  {
   "cell_type": "code",
   "execution_count": null,
   "id": "4743b3f2",
   "metadata": {
    "ExecuteTime": {
     "end_time": "2023-05-03T06:45:59.067261Z",
     "start_time": "2023-05-03T06:45:59.058288Z"
    },
    "scrolled": true
   },
   "outputs": [],
   "source": [
    "df_senior_infant.columns"
   ]
  },
  {
   "cell_type": "code",
   "execution_count": null,
   "id": "8a806e53",
   "metadata": {
    "ExecuteTime": {
     "end_time": "2023-05-03T06:47:17.406748Z",
     "start_time": "2023-05-03T06:47:17.399291Z"
    }
   },
   "outputs": [],
   "source": [
    "df_senior_infant.drop(columns = ['요양기관명_y','세대수_y'], inplace = True)"
   ]
  },
  {
   "cell_type": "code",
   "execution_count": null,
   "id": "c37b009f",
   "metadata": {
    "ExecuteTime": {
     "end_time": "2023-05-03T06:48:08.557938Z",
     "start_time": "2023-05-03T06:48:08.532202Z"
    },
    "scrolled": true
   },
   "outputs": [],
   "source": [
    "df_senior_infant['생활인구수(유아,노년층)'] = df_senior_infant['VAL_x'] + df_senior_infant['VAL_y']\n",
    "df_senior_infant"
   ]
  },
  {
   "cell_type": "code",
   "execution_count": null,
   "id": "8a0a1108",
   "metadata": {
    "ExecuteTime": {
     "end_time": "2023-05-03T06:51:22.393994Z",
     "start_time": "2023-05-03T06:51:22.384079Z"
    }
   },
   "outputs": [],
   "source": [
    "df_senior_infant.rename(columns = {'요양기관명_x' : '요양기관명'}, inplace = True)\n",
    "df_senior_infant.rename(columns = {'VAL_x' : '유아층 생활인구수'}, inplace = True)\n",
    "df_senior_infant.rename(columns = {'VAL_y' : '노년층 생활인구수'}, inplace = True)\n",
    "df_senior_infant.rename(columns = {'세대수_x' : '세대수'}, inplace = True)"
   ]
  },
  {
   "cell_type": "code",
   "execution_count": null,
   "id": "46b908d0",
   "metadata": {
    "ExecuteTime": {
     "end_time": "2023-05-03T06:51:25.928332Z",
     "start_time": "2023-05-03T06:51:25.906995Z"
    },
    "scrolled": true
   },
   "outputs": [],
   "source": [
    "df_senior_infant"
   ]
  },
  {
   "cell_type": "code",
   "execution_count": null,
   "id": "40a53435",
   "metadata": {
    "ExecuteTime": {
     "end_time": "2023-05-03T06:58:33.785295Z",
     "start_time": "2023-05-03T06:58:33.777088Z"
    }
   },
   "outputs": [],
   "source": [
    "df_senior_infant['zscore(생활인구)'] = (df_senior_infant['생활인구수(유아,노년층)'] - df_senior_infant['생활인구수(유아,노년층)'].mean())/df_senior_infant['생활인구수(유아,노년층)'].std(ddof=0)\n",
    "df_senior_infant['zscore(세대수)'] = (df_senior_infant['세대수'] - df_senior_infant['세대수'].mean())/df_senior_infant['세대수'].std(ddof=0)"
   ]
  },
  {
   "cell_type": "code",
   "execution_count": null,
   "id": "b583cce0",
   "metadata": {
    "ExecuteTime": {
     "end_time": "2023-05-03T06:59:37.862316Z",
     "start_time": "2023-05-03T06:59:37.820990Z"
    },
    "scrolled": true
   },
   "outputs": [],
   "source": [
    "df_senior_infant.sort_values(by = ['zscore(세대수)'], ascending = False)"
   ]
  },
  {
   "cell_type": "code",
   "execution_count": null,
   "id": "66e2c876",
   "metadata": {
    "ExecuteTime": {
     "end_time": "2023-05-03T07:06:27.862115Z",
     "start_time": "2023-05-03T07:06:27.844960Z"
    },
    "scrolled": true
   },
   "outputs": [],
   "source": [
    "df_bus_pharm = df_bus_pharm[['index','HubName','HubDist']]"
   ]
  },
  {
   "cell_type": "code",
   "execution_count": null,
   "id": "1bb9605b",
   "metadata": {
    "ExecuteTime": {
     "end_time": "2023-05-03T07:07:28.339556Z",
     "start_time": "2023-05-03T07:07:28.319367Z"
    },
    "scrolled": true
   },
   "outputs": [],
   "source": [
    "df_senior_infant = df_senior_infant.merge(df_bus_pharm, on = \"index\", how = \"inner\")"
   ]
  },
  {
   "cell_type": "code",
   "execution_count": null,
   "id": "a392ab61",
   "metadata": {
    "ExecuteTime": {
     "end_time": "2023-05-03T07:07:31.274582Z",
     "start_time": "2023-05-03T07:07:31.246396Z"
    },
    "scrolled": true
   },
   "outputs": [],
   "source": [
    "df_senior_infant"
   ]
  },
  {
   "cell_type": "code",
   "execution_count": null,
   "id": "12fa988e",
   "metadata": {
    "ExecuteTime": {
     "end_time": "2023-05-03T07:09:28.168125Z",
     "start_time": "2023-05-03T07:09:28.160760Z"
    }
   },
   "outputs": [],
   "source": [
    "df_senior_infant.rename(columns = {'HubName' : '최단거리정류소'}, inplace = True)\n",
    "df_senior_infant.rename(columns = {'HubDist' : '최단거리정류소(m)'}, inplace = True)"
   ]
  },
  {
   "cell_type": "code",
   "execution_count": null,
   "id": "fb3279e9",
   "metadata": {
    "ExecuteTime": {
     "end_time": "2023-05-03T07:11:49.304776Z",
     "start_time": "2023-05-03T07:11:49.286044Z"
    },
    "scrolled": true
   },
   "outputs": [],
   "source": [
    "df_500['zscore(정류소거리)'] = (df_500['최단거리정류소(m)'] - df_500['최단거리정류소(m)'].mean())/df_500['최단거리정류소(m)'].std(ddof=0)"
   ]
  },
  {
   "cell_type": "code",
   "execution_count": null,
   "id": "2abdebde",
   "metadata": {
    "ExecuteTime": {
     "end_time": "2023-05-03T07:11:52.390067Z",
     "start_time": "2023-05-03T07:11:52.354175Z"
    },
    "scrolled": true
   },
   "outputs": [],
   "source": [
    "df_senior_infant"
   ]
  },
  {
   "cell_type": "code",
   "execution_count": null,
   "id": "e6d29f87",
   "metadata": {
    "ExecuteTime": {
     "end_time": "2023-05-03T07:45:46.086177Z",
     "start_time": "2023-05-03T07:45:46.066241Z"
    }
   },
   "outputs": [],
   "source": [
    "df_senior_infant['zscore_mean'] = (df_senior_infant['zscore(생활인구)'] + df_senior_infant['zscore(세대수)'] - df_senior_infant['zscore(정류소거리)'])/3"
   ]
  },
  {
   "cell_type": "code",
   "execution_count": null,
   "id": "86ace64d",
   "metadata": {
    "ExecuteTime": {
     "end_time": "2023-05-03T07:48:06.359587Z",
     "start_time": "2023-05-03T07:48:06.349584Z"
    },
    "scrolled": true
   },
   "outputs": [],
   "source": [
    "df_senior_infant = df_senior_infant.sort_values(by=['zscore_mean'], ascending = False)"
   ]
  },
  {
   "cell_type": "code",
   "execution_count": null,
   "id": "91916df7",
   "metadata": {
    "ExecuteTime": {
     "end_time": "2023-05-03T07:48:35.752591Z",
     "start_time": "2023-05-03T07:48:35.699237Z"
    }
   },
   "outputs": [],
   "source": [
    "df_senior_infant.to_csv(\"공공야간약국_분석결과_zscore포함.csv\", encoding = \"cp949\")"
   ]
  },
  {
   "cell_type": "code",
   "execution_count": null,
   "id": "1f4b862a",
   "metadata": {
    "ExecuteTime": {
     "end_time": "2023-05-03T07:34:37.632690Z",
     "start_time": "2023-05-03T07:34:37.611878Z"
    }
   },
   "outputs": [],
   "source": [
    "df_senior_infant['zscore(생활인구)'].max()"
   ]
  },
  {
   "cell_type": "code",
   "execution_count": null,
   "id": "7e1862c8",
   "metadata": {
    "ExecuteTime": {
     "end_time": "2023-05-03T07:34:46.479720Z",
     "start_time": "2023-05-03T07:34:46.472423Z"
    }
   },
   "outputs": [],
   "source": [
    "df_senior_infant['zscore(생활인구)'].min()"
   ]
  },
  {
   "cell_type": "code",
   "execution_count": null,
   "id": "b082dd63",
   "metadata": {
    "ExecuteTime": {
     "end_time": "2023-05-03T07:35:20.187438Z",
     "start_time": "2023-05-03T07:35:20.175435Z"
    }
   },
   "outputs": [],
   "source": [
    "df_senior_infant['zscore(세대수)'].max()"
   ]
  },
  {
   "cell_type": "code",
   "execution_count": null,
   "id": "d130149f",
   "metadata": {
    "ExecuteTime": {
     "end_time": "2023-05-03T07:35:34.901397Z",
     "start_time": "2023-05-03T07:35:34.887519Z"
    }
   },
   "outputs": [],
   "source": [
    "df_senior_infant['zscore(세대수)'].min()"
   ]
  },
  {
   "cell_type": "code",
   "execution_count": null,
   "id": "e8981515",
   "metadata": {
    "ExecuteTime": {
     "end_time": "2023-05-03T07:39:13.342599Z",
     "start_time": "2023-05-03T07:39:13.330145Z"
    },
    "scrolled": true
   },
   "outputs": [],
   "source": [
    "df_senior_infant['zscore(정류소거리)'].sort_values()"
   ]
  },
  {
   "cell_type": "code",
   "execution_count": null,
   "id": "9c73db5b",
   "metadata": {
    "ExecuteTime": {
     "end_time": "2023-05-03T07:37:29.765692Z",
     "start_time": "2023-05-03T07:37:29.751288Z"
    }
   },
   "outputs": [],
   "source": [
    "df_senior_infant['zscore(정류소거리)'].min()"
   ]
  },
  {
   "cell_type": "code",
   "execution_count": null,
   "id": "739700a8",
   "metadata": {
    "ExecuteTime": {
     "end_time": "2023-05-03T07:45:15.403295Z",
     "start_time": "2023-05-03T07:45:15.366899Z"
    }
   },
   "outputs": [],
   "source": [
    "df_senior_infant.sort_values(by = ['zscore(정류소거리)'], ascending = True)"
   ]
  },
  {
   "cell_type": "code",
   "execution_count": null,
   "id": "db8d0f7d",
   "metadata": {
    "ExecuteTime": {
     "end_time": "2023-05-03T07:42:25.679336Z",
     "start_time": "2023-05-03T07:42:25.495359Z"
    },
    "scrolled": true
   },
   "outputs": [],
   "source": [
    "sns.boxplot(df_senior_infant['zscore(정류소거리)'])"
   ]
  },
  {
   "cell_type": "code",
   "execution_count": null,
   "id": "7feea816",
   "metadata": {},
   "outputs": [],
   "source": [
    "df.loc[(df['Discount'] >= 1000) & (df['Discount'] <= 2000)]"
   ]
  },
  {
   "cell_type": "code",
   "execution_count": null,
   "id": "e6d9191b",
   "metadata": {
    "ExecuteTime": {
     "end_time": "2023-05-09T01:00:23.712704Z",
     "start_time": "2023-05-09T01:00:23.688052Z"
    }
   },
   "outputs": [],
   "source": [
    "df = pd.read_csv(\"C:/Users/user/Desktop/workplace/result/공공야간약국_분석결과_zscore포함.csv\", encoding = \"cp949\", index_col = 0)"
   ]
  },
  {
   "cell_type": "code",
   "execution_count": null,
   "id": "4338986d",
   "metadata": {
    "ExecuteTime": {
     "end_time": "2023-05-09T01:06:48.543804Z",
     "start_time": "2023-05-09T01:06:48.534790Z"
    },
    "scrolled": true
   },
   "outputs": [],
   "source": [
    "df.columns"
   ]
  },
  {
   "cell_type": "code",
   "execution_count": null,
   "id": "2025ca49",
   "metadata": {
    "ExecuteTime": {
     "end_time": "2023-05-09T01:07:21.759061Z",
     "start_time": "2023-05-09T01:07:21.737131Z"
    }
   },
   "outputs": [],
   "source": [
    "df['세대수 Percentile'] = df['세대수'].rank(pct = True)"
   ]
  },
  {
   "cell_type": "code",
   "execution_count": null,
   "id": "f46bf8f6",
   "metadata": {
    "ExecuteTime": {
     "end_time": "2023-05-09T01:07:51.290356Z",
     "start_time": "2023-05-09T01:07:51.259489Z"
    },
    "scrolled": true
   },
   "outputs": [],
   "source": [
    "df.sort_values(by = ['세대수 Percentile'], ascending = False)"
   ]
  },
  {
   "cell_type": "code",
   "execution_count": null,
   "id": "55059c0d",
   "metadata": {
    "ExecuteTime": {
     "end_time": "2023-05-09T01:18:46.678455Z",
     "start_time": "2023-05-09T01:18:46.671299Z"
    }
   },
   "outputs": [],
   "source": [
    "df['생활인구수(유아,노년층) Percentile'] = df['생활인구수(유아,노년층)'].rank(pct = True)"
   ]
  },
  {
   "cell_type": "code",
   "execution_count": null,
   "id": "3481d166",
   "metadata": {
    "ExecuteTime": {
     "end_time": "2023-05-09T01:20:13.581824Z",
     "start_time": "2023-05-09T01:20:13.545693Z"
    },
    "scrolled": true
   },
   "outputs": [],
   "source": [
    "df.sort_values(by = ['생활인구수(유아,노년층)'], ascending = False)"
   ]
  },
  {
   "cell_type": "code",
   "execution_count": null,
   "id": "526dea0f",
   "metadata": {
    "ExecuteTime": {
     "end_time": "2023-05-09T01:25:36.998582Z",
     "start_time": "2023-05-09T01:25:36.973856Z"
    }
   },
   "outputs": [],
   "source": [
    "df['최단거리정류소(m) Percentile'] = df['최단거리정류소(m)'].rank(pct = True)"
   ]
  },
  {
   "cell_type": "code",
   "execution_count": null,
   "id": "773b80cd",
   "metadata": {
    "ExecuteTime": {
     "end_time": "2023-05-09T01:26:03.030888Z",
     "start_time": "2023-05-09T01:26:03.013466Z"
    },
    "scrolled": true
   },
   "outputs": [],
   "source": [
    "df['최단거리정류소(m) Percentile'] = 1 - df['최단거리정류소(m) Percentile'] "
   ]
  },
  {
   "cell_type": "code",
   "execution_count": null,
   "id": "4ab77670",
   "metadata": {
    "ExecuteTime": {
     "end_time": "2023-05-09T01:26:55.850932Z",
     "start_time": "2023-05-09T01:26:55.820110Z"
    },
    "scrolled": true
   },
   "outputs": [],
   "source": [
    "df.sort_values(by = ['최단거리정류소(m) Percentile'], ascending = False)"
   ]
  },
  {
   "cell_type": "code",
   "execution_count": null,
   "id": "ba8825f3",
   "metadata": {
    "ExecuteTime": {
     "end_time": "2023-05-09T01:28:26.201755Z",
     "start_time": "2023-05-09T01:28:26.185638Z"
    }
   },
   "outputs": [],
   "source": [
    "df['Percentile Mean'] = (df['세대수 Percentile'] + df['생활인구수(유아,노년층) Percentile'] + df['최단거리정류소(m) Percentile'])/3"
   ]
  },
  {
   "cell_type": "code",
   "execution_count": null,
   "id": "96144416",
   "metadata": {
    "ExecuteTime": {
     "end_time": "2023-05-09T01:28:57.761102Z",
     "start_time": "2023-05-09T01:28:57.727658Z"
    },
    "scrolled": true
   },
   "outputs": [],
   "source": [
    "df.sort_values(by = ['Percentile Mean'], ascending = False)"
   ]
  },
  {
   "cell_type": "code",
   "execution_count": null,
   "id": "1749dbe6",
   "metadata": {
    "ExecuteTime": {
     "end_time": "2023-05-09T01:32:19.283401Z",
     "start_time": "2023-05-09T01:32:19.253921Z"
    }
   },
   "outputs": [],
   "source": [
    "df.to_csv(\"공공야간약국_분석결과_zscore포함(v0.2).csv\", encoding = \"cp949\")"
   ]
  },
  {
   "cell_type": "code",
   "execution_count": null,
   "id": "56dcd149",
   "metadata": {
    "ExecuteTime": {
     "end_time": "2023-05-09T02:02:04.231218Z",
     "start_time": "2023-05-09T02:02:04.221250Z"
    }
   },
   "outputs": [],
   "source": [
    "df['Decile_rank'] = pd.qcut(df['Percentile Mean'],10,labels = False)"
   ]
  },
  {
   "cell_type": "code",
   "execution_count": null,
   "id": "7ca9412d",
   "metadata": {
    "ExecuteTime": {
     "end_time": "2023-05-09T02:02:42.452951Z",
     "start_time": "2023-05-09T02:02:42.418072Z"
    },
    "scrolled": true
   },
   "outputs": [],
   "source": [
    "df.to_csv(\"공공야간약국_분석결과_zscore포함(v0.2).csv\", encoding = \"cp949\")"
   ]
  },
  {
   "cell_type": "code",
   "execution_count": null,
   "id": "bf1286f4",
   "metadata": {
    "ExecuteTime": {
     "end_time": "2023-05-09T02:17:15.068698Z",
     "start_time": "2023-05-09T02:17:15.041562Z"
    },
    "scrolled": true
   },
   "outputs": [],
   "source": [
    "df"
   ]
  },
  {
   "cell_type": "code",
   "execution_count": null,
   "id": "cc682ca3",
   "metadata": {
    "ExecuteTime": {
     "end_time": "2023-05-09T02:17:50.998236Z",
     "start_time": "2023-05-09T02:17:50.964259Z"
    },
    "scrolled": true
   },
   "outputs": [],
   "source": [
    "df.sort_values(by = ['Percentile Mean'], ascending = False)"
   ]
  },
  {
   "cell_type": "code",
   "execution_count": null,
   "id": "133ca2f1",
   "metadata": {
    "ExecuteTime": {
     "end_time": "2023-05-09T02:20:55.949098Z",
     "start_time": "2023-05-09T02:20:55.935157Z"
    }
   },
   "outputs": [],
   "source": [
    "df.columns"
   ]
  },
  {
   "cell_type": "code",
   "execution_count": null,
   "id": "bc66177f",
   "metadata": {
    "ExecuteTime": {
     "end_time": "2023-05-09T02:22:23.522538Z",
     "start_time": "2023-05-09T02:22:23.481729Z"
    },
    "scrolled": true
   },
   "outputs": [],
   "source": [
    "df2 = df.iloc[0:10]\n",
    "df2"
   ]
  },
  {
   "cell_type": "code",
   "execution_count": null,
   "id": "c0d1aa1a",
   "metadata": {
    "ExecuteTime": {
     "end_time": "2023-05-09T04:06:43.428599Z",
     "start_time": "2023-05-09T04:06:43.411863Z"
    }
   },
   "outputs": [],
   "source": [
    "import matplotlib.pyplot as plt"
   ]
  },
  {
   "cell_type": "code",
   "execution_count": null,
   "id": "a56c114f",
   "metadata": {
    "ExecuteTime": {
     "end_time": "2023-05-09T04:22:26.563601Z",
     "start_time": "2023-05-09T04:22:26.542303Z"
    },
    "scrolled": true
   },
   "outputs": [],
   "source": [
    "df2.columns"
   ]
  },
  {
   "cell_type": "code",
   "execution_count": null,
   "id": "4a5eed82",
   "metadata": {
    "ExecuteTime": {
     "end_time": "2023-05-09T05:10:58.613496Z",
     "start_time": "2023-05-09T05:10:58.607661Z"
    }
   },
   "outputs": [],
   "source": [
    "df.columns"
   ]
  },
  {
   "cell_type": "code",
   "execution_count": null,
   "id": "272f6bb3",
   "metadata": {
    "ExecuteTime": {
     "end_time": "2023-05-09T08:32:44.422251Z",
     "start_time": "2023-05-09T08:32:44.402153Z"
    }
   },
   "outputs": [],
   "source": [
    "df = pd.read_csv(\"C:/Users/user/Desktop/workplace/result/공공야간약국_분석결과_zscore포함(v0.2).csv\",\n",
    "                encoding = \"cp949\", index_col = 0)"
   ]
  },
  {
   "cell_type": "code",
   "execution_count": null,
   "id": "57eb71da",
   "metadata": {
    "ExecuteTime": {
     "end_time": "2023-05-09T08:33:43.070295Z",
     "start_time": "2023-05-09T08:33:43.037436Z"
    },
    "scrolled": true
   },
   "outputs": [],
   "source": [
    "df"
   ]
  },
  {
   "cell_type": "code",
   "execution_count": null,
   "id": "9d29870b",
   "metadata": {
    "ExecuteTime": {
     "end_time": "2023-05-09T05:56:07.196893Z",
     "start_time": "2023-05-09T05:56:07.179085Z"
    }
   },
   "outputs": [],
   "source": [
    "df3 = df[['요양기관명','유아층 생활인구수','세대수','노년층 생활인구수','생활인구수(유아,노년층)','최단거리정류소(m)']]"
   ]
  },
  {
   "cell_type": "code",
   "execution_count": null,
   "id": "8f509f1d",
   "metadata": {
    "ExecuteTime": {
     "end_time": "2023-05-09T05:56:07.596696Z",
     "start_time": "2023-05-09T05:56:07.573970Z"
    },
    "scrolled": false
   },
   "outputs": [],
   "source": [
    "df3"
   ]
  },
  {
   "cell_type": "code",
   "execution_count": null,
   "id": "f14fd108",
   "metadata": {
    "ExecuteTime": {
     "end_time": "2023-05-09T08:05:18.830476Z",
     "start_time": "2023-05-09T08:05:18.810344Z"
    },
    "scrolled": false
   },
   "outputs": [],
   "source": [
    "df3.sort_values(by = ['최단거리정류소(m)'])"
   ]
  },
  {
   "cell_type": "code",
   "execution_count": null,
   "id": "38982497",
   "metadata": {
    "ExecuteTime": {
     "end_time": "2023-05-09T08:12:53.533647Z",
     "start_time": "2023-05-09T08:12:53.503329Z"
    },
    "scrolled": true
   },
   "outputs": [],
   "source": [
    "df"
   ]
  },
  {
   "cell_type": "code",
   "execution_count": null,
   "id": "42fbc695",
   "metadata": {
    "ExecuteTime": {
     "end_time": "2023-05-09T08:33:57.492063Z",
     "start_time": "2023-05-09T08:33:57.473450Z"
    }
   },
   "outputs": [],
   "source": [
    "df['시군구코드명'].unique()"
   ]
  },
  {
   "cell_type": "code",
   "execution_count": null,
   "id": "92c977cf",
   "metadata": {
    "ExecuteTime": {
     "end_time": "2023-05-11T05:39:31.704112Z",
     "start_time": "2023-05-11T05:39:31.210362Z"
    }
   },
   "outputs": [],
   "source": [
    "df_장수군 = df[df['시군구코드명'] == \"장수군\"]\n",
    "df_장수군['시군구 별 Decile_rank'] = pd.qcut(df_장수군['Percentile Mean'],10,labels = False)"
   ]
  },
  {
   "cell_type": "code",
   "execution_count": null,
   "id": "ba8a1301",
   "metadata": {
    "ExecuteTime": {
     "end_time": "2023-05-09T08:40:44.704309Z",
     "start_time": "2023-05-09T08:40:44.671372Z"
    },
    "scrolled": true
   },
   "outputs": [],
   "source": [
    "df_장수군"
   ]
  },
  {
   "cell_type": "code",
   "execution_count": null,
   "id": "21d91dda",
   "metadata": {
    "ExecuteTime": {
     "end_time": "2023-05-09T08:43:01.213790Z",
     "start_time": "2023-05-09T08:43:01.178493Z"
    },
    "scrolled": true
   },
   "outputs": [],
   "source": [
    "df_완산구"
   ]
  },
  {
   "cell_type": "code",
   "execution_count": null,
   "id": "4438ec4b",
   "metadata": {
    "ExecuteTime": {
     "end_time": "2023-05-09T08:43:21.741044Z",
     "start_time": "2023-05-09T08:43:21.725057Z"
    }
   },
   "outputs": [],
   "source": [
    "df = pd.concat([df_군산시 , df_완산구 , df_전주덕진구 , df_익산시 , df_완주군 , df_남원시 , \n",
    "                df_김제시 , df_정읍시 , df_부안군 ,df_무주군 , df_순창군 , df_고창군 , df_임실군 , df_진안군 , df_장수군 ])"
   ]
  },
  {
   "cell_type": "code",
   "execution_count": null,
   "id": "66f08a74",
   "metadata": {
    "ExecuteTime": {
     "end_time": "2023-05-09T08:46:05.272326Z",
     "start_time": "2023-05-09T08:46:05.237288Z"
    },
    "scrolled": true
   },
   "outputs": [],
   "source": [
    "df.to_csv(\"공공야간약국_분석결과_zscore포함(v0.3).csv\",encoding = \"cp949\")"
   ]
  },
  {
   "cell_type": "code",
   "execution_count": null,
   "id": "e8a574ae",
   "metadata": {
    "ExecuteTime": {
     "end_time": "2023-05-09T08:34:35.298597Z",
     "start_time": "2023-05-09T08:34:35.286637Z"
    }
   },
   "outputs": [],
   "source": [
    "df_군산['시군구 별 Decile_rank'] = pd.qcut(df['Percentile Mean'],10,labels = False)"
   ]
  },
  {
   "cell_type": "code",
   "execution_count": null,
   "id": "64abc2d3",
   "metadata": {
    "ExecuteTime": {
     "end_time": "2023-05-09T08:34:36.550337Z",
     "start_time": "2023-05-09T08:34:36.523424Z"
    },
    "scrolled": true
   },
   "outputs": [],
   "source": [
    "df_군산"
   ]
  },
  {
   "cell_type": "code",
   "execution_count": null,
   "id": "1cbddbf2",
   "metadata": {
    "ExecuteTime": {
     "end_time": "2023-05-09T08:27:31.545447Z",
     "start_time": "2023-05-09T08:27:31.529821Z"
    }
   },
   "outputs": [],
   "source": [
    "sg_lst = ['군산시', '전주완산구', '전주덕진구', '익산시', '완주군', '남원시', '김제시', '정읍시', '부안군',\n",
    "       '무주군', '순창군', '고창군', '임실군', '진안군', '장수군']"
   ]
  },
  {
   "cell_type": "code",
   "execution_count": null,
   "id": "de72f9db",
   "metadata": {
    "ExecuteTime": {
     "end_time": "2023-05-09T08:30:18.319082Z",
     "start_time": "2023-05-09T08:30:18.289737Z"
    },
    "scrolled": true
   },
   "outputs": [],
   "source": [
    "df"
   ]
  },
  {
   "cell_type": "code",
   "execution_count": null,
   "id": "ff3042fa",
   "metadata": {
    "ExecuteTime": {
     "end_time": "2023-05-09T08:32:01.642087Z",
     "start_time": "2023-05-09T08:32:01.624670Z"
    }
   },
   "outputs": [],
   "source": [
    "tmp"
   ]
  },
  {
   "cell_type": "code",
   "execution_count": null,
   "id": "d9634cd0",
   "metadata": {
    "ExecuteTime": {
     "end_time": "2023-05-11T05:59:05.281017Z",
     "start_time": "2023-05-11T05:59:05.253259Z"
    }
   },
   "outputs": [],
   "source": [
    "df = pd.read_csv(\"C:/Users/user/Desktop/workplace/result/공공야간약국_분석결과_zscore포함(v0.2).csv\",\n",
    "                encoding = \"cp949\", index_col = 0)"
   ]
  },
  {
   "cell_type": "code",
   "execution_count": null,
   "id": "ee48690a",
   "metadata": {
    "ExecuteTime": {
     "end_time": "2023-05-11T05:59:05.806304Z",
     "start_time": "2023-05-11T05:59:05.767097Z"
    },
    "scrolled": true
   },
   "outputs": [],
   "source": [
    "df[df['시군구코드명'] == '완주군']"
   ]
  },
  {
   "cell_type": "code",
   "execution_count": null,
   "id": "6a964813",
   "metadata": {
    "ExecuteTime": {
     "end_time": "2023-05-11T05:59:07.433488Z",
     "start_time": "2023-05-11T05:59:07.414509Z"
    }
   },
   "outputs": [],
   "source": [
    "sg_lst = ['군산시', '전주완산구', '전주덕진구', '익산시', '완주군', '남원시', '김제시', '정읍시', '부안군',\n",
    "       '무주군', '순창군', '고창군', '임실군', '진안군', '장수군']"
   ]
  },
  {
   "cell_type": "code",
   "execution_count": null,
   "id": "7a9cdc6f",
   "metadata": {
    "ExecuteTime": {
     "end_time": "2023-05-11T05:59:08.036863Z",
     "start_time": "2023-05-11T05:59:08.022564Z"
    }
   },
   "outputs": [],
   "source": [
    "sg_lst[1]"
   ]
  },
  {
   "cell_type": "code",
   "execution_count": null,
   "id": "babcf439",
   "metadata": {
    "ExecuteTime": {
     "end_time": "2023-05-11T05:55:24.307255Z",
     "start_time": "2023-05-11T05:55:24.277944Z"
    },
    "scrolled": true
   },
   "outputs": [],
   "source": [
    "df"
   ]
  },
  {
   "cell_type": "code",
   "execution_count": null,
   "id": "b15c6c8c",
   "metadata": {
    "ExecuteTime": {
     "end_time": "2023-05-11T05:57:13.832900Z",
     "start_time": "2023-05-11T05:57:13.819374Z"
    }
   },
   "outputs": [],
   "source": [
    "df = pd.DataFrame()\n",
    "df"
   ]
  },
  {
   "cell_type": "code",
   "execution_count": null,
   "id": "8089220e",
   "metadata": {
    "ExecuteTime": {
     "end_time": "2023-05-11T05:59:17.705866Z",
     "start_time": "2023-05-11T05:59:17.633222Z"
    }
   },
   "outputs": [],
   "source": [
    "df2 = pd.DataFrame()\n",
    "for i in range(len(sg_lst)):\n",
    "    tmp = df[df['시군구코드명'] == sg_lst[i]]\n",
    "    tmp['시군구 별 Decile_rank'] = pd.qcut(tmp['Percentile Mean'],10,labels = False)\n",
    "    df2 = df2.append(tmp)"
   ]
  },
  {
   "cell_type": "code",
   "execution_count": null,
   "id": "14d97ad9",
   "metadata": {
    "ExecuteTime": {
     "end_time": "2023-05-11T06:08:52.069063Z",
     "start_time": "2023-05-11T06:08:52.041713Z"
    },
    "scrolled": true
   },
   "outputs": [],
   "source": [
    "df2.sort_values(by = ['Percentile Mean'], ascending = False)"
   ]
  },
  {
   "cell_type": "code",
   "execution_count": null,
   "id": "246fd958",
   "metadata": {
    "ExecuteTime": {
     "end_time": "2023-05-12T05:06:31.886709Z",
     "start_time": "2023-05-12T05:06:31.872099Z"
    }
   },
   "outputs": [],
   "source": [
    "add1 = \"C:/Users/user/Desktop/workplace/result/고령층/\"\n",
    "add2 = \"C:/Users/user/Desktop/workplace/result/유아층/\""
   ]
  },
  {
   "cell_type": "code",
   "execution_count": null,
   "id": "7dae504c",
   "metadata": {
    "ExecuteTime": {
     "end_time": "2023-05-12T06:48:50.981672Z",
     "start_time": "2023-05-12T06:48:50.853848Z"
    }
   },
   "outputs": [],
   "source": [
    "df_senior = pd.read_csv(add1 + \"약국 별 생활인구+세대수(고령층)_반경1km.csv\",encoding = \"cp949\", index_col = 0)\n",
    "df_infant = pd.read_csv(add2 + \"약국 별 생활인구+세대수(유아층)_반경1km.csv\",encoding = \"cp949\", index_col = 0)"
   ]
  },
  {
   "cell_type": "code",
   "execution_count": null,
   "id": "46a32fbb",
   "metadata": {
    "ExecuteTime": {
     "end_time": "2023-05-12T06:48:51.494896Z",
     "start_time": "2023-05-12T06:48:51.472896Z"
    },
    "scrolled": true
   },
   "outputs": [],
   "source": [
    "df_infant"
   ]
  },
  {
   "cell_type": "code",
   "execution_count": null,
   "id": "2addfa6e",
   "metadata": {
    "ExecuteTime": {
     "end_time": "2023-05-12T06:49:14.711128Z",
     "start_time": "2023-05-12T06:49:14.702126Z"
    },
    "scrolled": true
   },
   "outputs": [],
   "source": [
    "df_senior.rename(columns = {'VAL' : '노년층 생활인구수'}, inplace = True)\n",
    "df_infant.rename(columns = {'VAL' : '유아층 생활인구수'}, inplace = True)"
   ]
  },
  {
   "cell_type": "code",
   "execution_count": null,
   "id": "4d367971",
   "metadata": {
    "ExecuteTime": {
     "end_time": "2023-05-12T06:49:15.679884Z",
     "start_time": "2023-05-12T06:49:15.641675Z"
    },
    "scrolled": true
   },
   "outputs": [],
   "source": [
    "df_infant"
   ]
  },
  {
   "cell_type": "code",
   "execution_count": null,
   "id": "421a77ef",
   "metadata": {
    "ExecuteTime": {
     "end_time": "2023-05-12T06:49:18.252245Z",
     "start_time": "2023-05-12T06:49:18.234220Z"
    }
   },
   "outputs": [],
   "source": [
    "df_infant2 = df_infant[['index','유아층 생활인구수']]"
   ]
  },
  {
   "cell_type": "code",
   "execution_count": null,
   "id": "bf4aa67e",
   "metadata": {
    "ExecuteTime": {
     "end_time": "2023-05-12T06:49:20.171908Z",
     "start_time": "2023-05-12T06:49:20.160283Z"
    },
    "scrolled": true
   },
   "outputs": [],
   "source": [
    "df_infant2"
   ]
  },
  {
   "cell_type": "code",
   "execution_count": null,
   "id": "0a81d0da",
   "metadata": {
    "ExecuteTime": {
     "end_time": "2023-05-12T06:49:32.317757Z",
     "start_time": "2023-05-12T06:49:32.299395Z"
    },
    "scrolled": true
   },
   "outputs": [],
   "source": [
    "df_500 = pd.merge(df_senior,df_infant2,on = \"index\", how = \"inner\")"
   ]
  },
  {
   "cell_type": "code",
   "execution_count": null,
   "id": "7c4bf90b",
   "metadata": {
    "ExecuteTime": {
     "end_time": "2023-05-12T06:49:32.986411Z",
     "start_time": "2023-05-12T06:49:32.947754Z"
    },
    "scrolled": true
   },
   "outputs": [],
   "source": [
    "df_500"
   ]
  },
  {
   "cell_type": "code",
   "execution_count": null,
   "id": "7f653ca3",
   "metadata": {
    "ExecuteTime": {
     "end_time": "2023-05-12T06:49:38.435565Z",
     "start_time": "2023-05-12T06:49:38.421523Z"
    }
   },
   "outputs": [],
   "source": [
    "df_500['취약계층 인구수(노년층 + 유아층)'] = df_500['노년층 생활인구수'] + df_500['유아층 생활인구수']"
   ]
  },
  {
   "cell_type": "code",
   "execution_count": null,
   "id": "f5bc4157",
   "metadata": {
    "ExecuteTime": {
     "end_time": "2023-05-12T06:49:40.017089Z",
     "start_time": "2023-05-12T06:49:40.006417Z"
    },
    "scrolled": true
   },
   "outputs": [],
   "source": [
    "df_500 = df_500.sort_values(by = ['index'])"
   ]
  },
  {
   "cell_type": "code",
   "execution_count": null,
   "id": "60b4eedf",
   "metadata": {
    "ExecuteTime": {
     "end_time": "2023-05-12T06:50:00.051238Z",
     "start_time": "2023-05-12T06:50:00.033238Z"
    }
   },
   "outputs": [],
   "source": [
    "df_bus = pd.read_csv(\"C:/Users/user/Desktop/workplace/result/공공야간약국_분석결과_zscore포함(v0.3).csv\",encoding = \"cp949\")"
   ]
  },
  {
   "cell_type": "code",
   "execution_count": null,
   "id": "d4c03af5",
   "metadata": {
    "ExecuteTime": {
     "end_time": "2023-05-12T06:50:01.291581Z",
     "start_time": "2023-05-12T06:50:01.277191Z"
    }
   },
   "outputs": [],
   "source": [
    "df_bus = df_bus[['index','최단거리정류소(m)','zscore(정류소거리)']]"
   ]
  },
  {
   "cell_type": "code",
   "execution_count": null,
   "id": "499a7cef",
   "metadata": {
    "ExecuteTime": {
     "end_time": "2023-05-12T06:50:02.326636Z",
     "start_time": "2023-05-12T06:50:02.305643Z"
    }
   },
   "outputs": [],
   "source": [
    "df_500 = df_500.merge(df_bus,on = 'index', how = \"inner\")"
   ]
  },
  {
   "cell_type": "code",
   "execution_count": null,
   "id": "acf68a40",
   "metadata": {
    "ExecuteTime": {
     "end_time": "2023-05-12T06:50:02.857648Z",
     "start_time": "2023-05-12T06:50:02.815216Z"
    },
    "scrolled": true
   },
   "outputs": [],
   "source": [
    "df_500"
   ]
  },
  {
   "cell_type": "code",
   "execution_count": null,
   "id": "2ededc6c",
   "metadata": {
    "ExecuteTime": {
     "end_time": "2023-05-12T06:11:28.751044Z",
     "start_time": "2023-05-12T06:11:28.714177Z"
    },
    "scrolled": true
   },
   "outputs": [],
   "source": [
    "df_500"
   ]
  },
  {
   "cell_type": "code",
   "execution_count": null,
   "id": "16c44e79",
   "metadata": {
    "ExecuteTime": {
     "end_time": "2023-05-12T06:50:41.041457Z",
     "start_time": "2023-05-12T06:50:40.968530Z"
    }
   },
   "outputs": [],
   "source": [
    "df_500['zscore(생활인구)'] = (df_500['취약계층 인구수(노년층 + 유아층)'] - df_500['취약계층 인구수(노년층 + 유아층)'].mean())/df_500['취약계층 인구수(노년층 + 유아층)'].std(ddof=0)\n",
    "df_500['zscore(세대수)'] = (df_500['세대수'] - df_500['세대수'].mean())/df_500['세대수'].std(ddof=0)\n",
    "df_500['zscore(정류소거리)'] = (df_500['최단거리정류소(m)'] - df_500['최단거리정류소(m)'].mean())/df_500['최단거리정류소(m)'].std(ddof=0)\n",
    "df_500['zscore_mean'] = (df_500['zscore(생활인구)'] + df_500['zscore(세대수)'] - df_500['zscore(정류소거리)'])/3\n",
    "df_500['세대수 Percentile'] = df_500['세대수'].rank(pct = True)\n",
    "df_500['취약계층 인구수(노년층 + 유아층) Percentile'] = df_500['취약계층 인구수(노년층 + 유아층)'].rank(pct = True)\n",
    "df_500['최단거리정류소(m) Percentile'] = df_500['최단거리정류소(m)'].rank(pct = True)\n",
    "df_500['최단거리정류소(m) Percentile'] = 1 - df_500['최단거리정류소(m) Percentile'] \n",
    "df_500['Percentile Mean'] = (df_500['세대수 Percentile'] + df_500['취약계층 인구수(노년층 + 유아층) Percentile'] + df_500['최단거리정류소(m) Percentile'])/3\n",
    "df_500['Decile_rank'] = pd.qcut(df_500['Percentile Mean'],10,labels = False)\n",
    "\n",
    "df2 = pd.DataFrame()\n",
    "\n",
    "sg_lst = ['군산시', '전주완산구', '전주덕진구', '익산시', '완주군', '남원시', '김제시', '정읍시', '부안군',\n",
    "       '무주군', '순창군', '고창군', '임실군', '진안군', '장수군']\n",
    "\n",
    "for i in range(len(sg_lst)):\n",
    "    tmp = df_500[df_500['시군구코드명'] == sg_lst[i]]\n",
    "    tmp['시군구 별 Decile_rank'] = pd.qcut(tmp['Percentile Mean'],10,labels = False)\n",
    "    df2 = df2.append(tmp)\n",
    "    \n",
    "add = \"C:/Users/user/Desktop/workplace/result/\"\n",
    "df2.to_csv(add + \"공공야간약국_분석결과_zscore포함_1km.csv\", encoding = \"cp949\")"
   ]
  },
  {
   "cell_type": "code",
   "execution_count": null,
   "id": "48026896",
   "metadata": {
    "ExecuteTime": {
     "end_time": "2023-05-12T07:14:06.498134Z",
     "start_time": "2023-05-12T07:14:06.383086Z"
    }
   },
   "outputs": [],
   "source": [
    "gdf = gpd.read_file(\"C:/Users/user/Desktop/workplace/result/유아층/약국 별 생활인구+세대수(유아층)_반경300.gpkg\")\n",
    "gdf2 = gdf[['index','geometry']]\n",
    "\n",
    "df2 = pd.read_csv(add + \"공공야간약국_분석결과_zscore포함_300m.csv\", encoding = \"cp949\", index_col = 0)\n",
    "\n",
    "len(df2.columns)\n",
    "\n",
    "df2 = df2.merge(gdf2, on = \"index\", how = \"inner\")\n",
    "df2.rename(columns = {'geometry_y' : 'geometry'}, inplace = True)\n",
    "\n",
    "gdf2 = gpd.GeoDataFrame(df2, geometry='geometry')\n",
    "\n",
    "add = \"C:/Users/user/Desktop/workplace/result/\"\n",
    "gdf2.to_file(add + \"공공야간약국_분석결과_zscore포함_300m(geofile).gpkg\", driver = \"GPKG\", encoding = \"cp949\")"
   ]
  },
  {
   "cell_type": "code",
   "execution_count": null,
   "id": "8d0e92c9",
   "metadata": {},
   "outputs": [],
   "source": []
  },
  {
   "cell_type": "code",
   "execution_count": null,
   "id": "fa344bf0",
   "metadata": {
    "ExecuteTime": {
     "end_time": "2023-05-17T07:45:19.685276Z",
     "start_time": "2023-05-17T07:45:19.662764Z"
    }
   },
   "outputs": [],
   "source": [
    "df300 = pd.read_csv(\"C:/Users/user/Desktop/workplace/result/공공야간약국_분석결과_zscore포함_300m.csv\", index_col = 0, encoding = \"cp949\")\n",
    "gdf300 = gpd.read_file(\"C:/Users/user/Desktop/workplace/result/공공야간약국_분석결과_zscore포함_300m(geofile).gpkg\",index_col = 0, encoding = \"cp949\")\n",
    "df500 = pd.read_csv(\"C:/Users/user/Desktop/workplace/result/공공야간약국_분석결과_zscore포함_500m.csv\", index_col = 0, encoding = \"cp949\")\n",
    "gdf500 = gpd.read_file(\"C:/Users/user/Desktop/workplace/result/공공야간약국_분석결과_zscore포함_500m(geofile).gpkg\",index_col = 0, encoding = \"cp949\")\n",
    "df1000 = pd.read_csv(\"C:/Users/user/Desktop/workplace/result/공공야간약국_분석결과_zscore포함_1km.csv\", index_col = 0)\n",
    "gdf1000 = gpd.read_file(\"C:/Users/user/Desktop/workplace/result/공공야간약국_분석결과_zscore포함_1km(geofile).gpkg\",index_col = 0, encoding = \"cp949\")"
   ]
  },
  {
   "cell_type": "code",
   "execution_count": null,
   "id": "0c56b6f5",
   "metadata": {
    "ExecuteTime": {
     "end_time": "2023-05-16T06:59:46.106898Z",
     "start_time": "2023-05-16T06:59:46.070341Z"
    },
    "scrolled": true
   },
   "outputs": [],
   "source": [
    "df1000"
   ]
  },
  {
   "cell_type": "code",
   "execution_count": null,
   "id": "1812312d",
   "metadata": {
    "ExecuteTime": {
     "end_time": "2023-05-16T06:45:15.129921Z",
     "start_time": "2023-05-16T06:45:15.023205Z"
    }
   },
   "outputs": [],
   "source": [
    "gdf = gpd.read_file(\"C:/Users/user/Desktop/workplace/jb_hospital_pharm_distance.gpkg\", encoding = \"cp949\")"
   ]
  },
  {
   "cell_type": "code",
   "execution_count": null,
   "id": "e8a1011d",
   "metadata": {
    "ExecuteTime": {
     "end_time": "2023-05-16T06:45:16.513467Z",
     "start_time": "2023-05-16T06:45:16.467860Z"
    },
    "scrolled": true
   },
   "outputs": [],
   "source": [
    "gdf"
   ]
  },
  {
   "cell_type": "code",
   "execution_count": null,
   "id": "3f8b5672",
   "metadata": {
    "ExecuteTime": {
     "end_time": "2023-05-16T06:45:25.901619Z",
     "start_time": "2023-05-16T06:45:25.880231Z"
    }
   },
   "outputs": [],
   "source": [
    "gdf_dist = gdf[['index','HubName','HubDist']]"
   ]
  },
  {
   "cell_type": "code",
   "execution_count": null,
   "id": "4fba084d",
   "metadata": {
    "ExecuteTime": {
     "end_time": "2023-05-16T06:45:26.755450Z",
     "start_time": "2023-05-16T06:45:26.742448Z"
    }
   },
   "outputs": [],
   "source": [
    "gdf_dist"
   ]
  },
  {
   "cell_type": "code",
   "execution_count": null,
   "id": "032ea1d8",
   "metadata": {
    "ExecuteTime": {
     "end_time": "2023-05-16T07:01:28.071533Z",
     "start_time": "2023-05-16T07:01:28.014971Z"
    }
   },
   "outputs": [],
   "source": [
    "df300 = df300.merge(gdf_dist,on = 'index',how = \"inner\")\n",
    "gdf300 = gdf300.merge(gdf_dist,on = 'index', how = 'inner')\n",
    "df500 = df500.merge(gdf_dist,on = 'index', how = 'inner')\n",
    "gdf500 = gdf500.merge(gdf_dist,on = 'index', how = 'inner')\n",
    "df1000 = df1000.merge(gdf_dist,on = 'index', how = 'inner')\n",
    "gdf1000 = gdf1000.merge(gdf_dist,on = 'index', how = 'inner')"
   ]
  },
  {
   "cell_type": "code",
   "execution_count": null,
   "id": "08ff9f10",
   "metadata": {
    "ExecuteTime": {
     "end_time": "2023-05-16T07:25:48.481440Z",
     "start_time": "2023-05-16T07:25:48.461945Z"
    }
   },
   "outputs": [],
   "source": [
    "df300.columns"
   ]
  },
  {
   "cell_type": "code",
   "execution_count": null,
   "id": "99a47af8",
   "metadata": {},
   "outputs": [],
   "source": []
  },
  {
   "cell_type": "code",
   "execution_count": null,
   "id": "b62c6261",
   "metadata": {
    "ExecuteTime": {
     "end_time": "2023-05-16T07:02:12.256165Z",
     "start_time": "2023-05-16T07:02:12.192680Z"
    },
    "scrolled": true
   },
   "outputs": [],
   "source": [
    "gdf500.sort_values(by = ['HubDist'])"
   ]
  },
  {
   "cell_type": "code",
   "execution_count": null,
   "id": "7bb1b31c",
   "metadata": {
    "ExecuteTime": {
     "end_time": "2023-05-16T07:02:27.332874Z",
     "start_time": "2023-05-16T07:02:27.280865Z"
    },
    "scrolled": true
   },
   "outputs": [],
   "source": [
    "gdf1000"
   ]
  },
  {
   "cell_type": "code",
   "execution_count": null,
   "id": "20319a67",
   "metadata": {
    "ExecuteTime": {
     "end_time": "2023-05-16T07:42:24.738001Z",
     "start_time": "2023-05-16T07:42:24.711997Z"
    }
   },
   "outputs": [],
   "source": [
    "df300.rename(columns = {'병원명' : '최단거리 병원명'}, inplace = True)\n",
    "gdf300.rename(columns = {'병원명' : '최단거리 병원명'}, inplace = True)\n",
    "df500.rename(columns = {'병원명' : '최단거리 병원명'}, inplace = True)\n",
    "gdf500.rename(columns = {'병원명' : '최단거리 병원명'}, inplace = True)\n",
    "df1000.rename(columns = {'병원명' : '최단거리 병원명'}, inplace = True)\n",
    "gdf1000.rename(columns = {'병원명' : '최단거리 병원명'}, inplace = True)\n",
    "df300.rename(columns = {'HubDist' : '최단거리병원(m)'}, inplace = True)\n",
    "gdf300.rename(columns = {'HubDist' : '최단거리병원(m)'}, inplace = True)\n",
    "df500.rename(columns = {'HubDist' : '최단거리병원(m)'}, inplace = True)\n",
    "gdf500.rename(columns = {'HubDist' : '최단거리병원(m)'}, inplace = True)\n",
    "df1000.rename(columns = {'HubDist' : '최단거리병원(m)'}, inplace = True)\n",
    "gdf1000.rename(columns = {'HubDist' : '최단거리병원(m)'}, inplace = True)"
   ]
  },
  {
   "cell_type": "code",
   "execution_count": null,
   "id": "18d4cbd0",
   "metadata": {
    "ExecuteTime": {
     "end_time": "2023-05-16T07:59:18.259790Z",
     "start_time": "2023-05-16T07:59:18.227227Z"
    },
    "scrolled": true
   },
   "outputs": [],
   "source": [
    "df500.sort_values(by='최단거리병원(m)')"
   ]
  },
  {
   "cell_type": "code",
   "execution_count": null,
   "id": "bac3c983",
   "metadata": {
    "ExecuteTime": {
     "end_time": "2023-05-16T07:46:50.065424Z",
     "start_time": "2023-05-16T07:46:50.045420Z"
    }
   },
   "outputs": [],
   "source": [
    "df500.columns"
   ]
  },
  {
   "cell_type": "code",
   "execution_count": null,
   "id": "4bf88401",
   "metadata": {
    "ExecuteTime": {
     "end_time": "2023-05-16T08:23:57.124772Z",
     "start_time": "2023-05-16T08:23:56.913373Z"
    }
   },
   "outputs": [],
   "source": [
    "add = \"C:/Users/user/Desktop/workplace/result/\"\n",
    "\n",
    "df300.to_csv(add + \"공공야간약국_분석결과_zscore포함_300m.csv\", encoding = \"cp949\")\n",
    "df500.to_csv(add + \"공공야간약국_분석결과_zscore포함_500m.csv\", encoding = \"cp949\")\n",
    "df1000.to_csv(add + \"공공야간약국_분석결과_zscore포함_1km.csv\", encoding = \"cp949\")"
   ]
  },
  {
   "cell_type": "code",
   "execution_count": null,
   "id": "a123b078",
   "metadata": {
    "ExecuteTime": {
     "end_time": "2023-05-16T08:24:01.023905Z",
     "start_time": "2023-05-16T08:23:57.728710Z"
    }
   },
   "outputs": [],
   "source": [
    "gdf300.to_file(add + \"공공야간약국_분석결과_zscore포함_300m(geofile).gpkg\", driver = \"GPKG\", encoding = \"cp949\")\n",
    "gdf500.to_file(add + \"공공야간약국_분석결과_zscore포함_500m(geofile).gpkg\", driver = \"GPKG\", encoding = \"cp949\")\n",
    "gdf1000.to_file(add + \"공공야간약국_분석결과_zscore포함_1km(geofile).gpkg\", driver = \"GPKG\", encoding = \"cp949\")"
   ]
  },
  {
   "cell_type": "code",
   "execution_count": null,
   "id": "498510a8",
   "metadata": {
    "ExecuteTime": {
     "end_time": "2023-05-16T08:03:51.317002Z",
     "start_time": "2023-05-16T08:03:51.284094Z"
    }
   },
   "outputs": [],
   "source": [
    "df300['zscore(최단거리병원)'] = (df300['최단거리병원(m)'] - df300['최단거리병원(m)'].mean())/df300['최단거리병원(m)'].std(ddof=0)\n",
    "df500['zscore(최단거리병원)'] = (df500['최단거리병원(m)'] - df500['최단거리병원(m)'].mean())/df500['최단거리병원(m)'].std(ddof=0)\n",
    "df1000['zscore(최단거리병원)'] = (df1000['최단거리병원(m)'] - df1000['최단거리병원(m)'].mean())/df1000['최단거리병원(m)'].std(ddof=0)\n",
    "gdf300['zscore(최단거리병원)'] = (gdf300['최단거리병원(m)'] - gdf300['최단거리병원(m)'].mean())/gdf300['최단거리병원(m)'].std(ddof=0)\n",
    "gdf500['zscore(최단거리병원)'] = (gdf500['최단거리병원(m)'] - gdf500['최단거리병원(m)'].mean())/gdf500['최단거리병원(m)'].std(ddof=0)\n",
    "gdf1000['zscore(최단거리병원)'] = (gdf1000['최단거리병원(m)'] - gdf1000['최단거리병원(m)'].mean())/gdf1000['최단거리병원(m)'].std(ddof=0)"
   ]
  },
  {
   "cell_type": "code",
   "execution_count": null,
   "id": "9a08a91c",
   "metadata": {
    "ExecuteTime": {
     "end_time": "2023-05-16T08:04:33.251308Z",
     "start_time": "2023-05-16T08:04:33.237677Z"
    },
    "scrolled": true
   },
   "outputs": [],
   "source": [
    "df_500['zscore_mean'] = (df_500['zscore(생활인구)'] + df_500['zscore(세대수)'] - df_500['zscore(정류소거리)'])/3\n",
    "df_500['세대수 Percentile'] = df_500['세대수'].rank(pct = True)\n",
    "df_500['취약계층 인구수(노년층 + 유아층) Percentile'] = df_500['취약계층 인구수(노년층 + 유아층)'].rank(pct = True)\n",
    "df_500['최단거리정류소(m) Percentile'] = df_500['최단거리정류소(m)'].rank(pct = True)\n",
    "df_500['최단거리정류소(m) Percentile'] = 1 - df_500['최단거리정류소(m) Percentile'] \n",
    "df_500['Percentile Mean'] = (df_500['세대수 Percentile'] + df_500['취약계층 인구수(노년층 + 유아층) Percentile'] + df_500['최단거리정류소(m) Percentile'])/3\n",
    "df_500['Decile_rank'] = pd.qcut(df_500['Percentile Mean'],10,labels = False)"
   ]
  },
  {
   "cell_type": "code",
   "execution_count": null,
   "id": "1cf80051",
   "metadata": {
    "ExecuteTime": {
     "end_time": "2023-05-16T08:11:42.164045Z",
     "start_time": "2023-05-16T08:11:42.153845Z"
    }
   },
   "outputs": [],
   "source": [
    "df_lst = [df300, df500, df1000, gdf300, gdf500, gdf1000]"
   ]
  },
  {
   "cell_type": "code",
   "execution_count": null,
   "id": "27aa670f",
   "metadata": {
    "ExecuteTime": {
     "end_time": "2023-05-16T08:12:05.139454Z",
     "start_time": "2023-05-16T08:12:05.127362Z"
    }
   },
   "outputs": [],
   "source": [
    "df = df_lst[1]"
   ]
  },
  {
   "cell_type": "code",
   "execution_count": null,
   "id": "b711a471",
   "metadata": {
    "ExecuteTime": {
     "end_time": "2023-05-16T08:21:06.850198Z",
     "start_time": "2023-05-16T08:21:06.835309Z"
    },
    "scrolled": true
   },
   "outputs": [],
   "source": [
    "df300.columns"
   ]
  },
  {
   "cell_type": "code",
   "execution_count": null,
   "id": "053156fe",
   "metadata": {
    "ExecuteTime": {
     "end_time": "2023-05-16T08:21:27.033133Z",
     "start_time": "2023-05-16T08:21:27.018811Z"
    }
   },
   "outputs": [],
   "source": [
    "df500.columns"
   ]
  },
  {
   "cell_type": "code",
   "execution_count": null,
   "id": "46b42b9a",
   "metadata": {
    "ExecuteTime": {
     "end_time": "2023-05-16T08:22:32.548561Z",
     "start_time": "2023-05-16T08:22:32.533203Z"
    }
   },
   "outputs": [],
   "source": [
    "df300.rename(columns = {'생활인구수(유아,노년층) Percentile' : '취약계층 인구수(노년층 + 유아층) Percentile'}, inplace = True)\n",
    "gdf300.rename(columns = {'생활인구수(유아,노년층) Percentile' : '취약계층 인구수(노년층 + 유아층) Percentile'}, inplace = True)"
   ]
  },
  {
   "cell_type": "code",
   "execution_count": null,
   "id": "ba039a42",
   "metadata": {
    "ExecuteTime": {
     "end_time": "2023-05-16T08:22:33.593373Z",
     "start_time": "2023-05-16T08:22:33.543947Z"
    }
   },
   "outputs": [],
   "source": [
    "for i in range(len(df_lst)):\n",
    "    df = df_lst[i]\n",
    "    df['zscore_mean'] = (df['zscore(생활인구)'] + df['zscore(세대수)'] - df['zscore(정류소거리)'] - df['zscore(최단거리병원)'])/4\n",
    "    df['최단거리병원(m) Percentile'] = df['최단거리병원(m)'].rank(pct = True)\n",
    "    df['최단거리병원(m) Percentile'] = 1 - df['최단거리병원(m) Percentile'] \n",
    "    df['Percentile Mean'] = (df['최단거리병원(m) Percentile'] + df['세대수 Percentile'] + df['취약계층 인구수(노년층 + 유아층) Percentile'] + df['최단거리정류소(m) Percentile'])/4\n",
    "    df['Decile_rank'] = pd.qcut(df['Percentile Mean'],10,labels = False)"
   ]
  },
  {
   "cell_type": "code",
   "execution_count": null,
   "id": "72722b50",
   "metadata": {
    "ExecuteTime": {
     "end_time": "2023-05-16T08:23:36.103669Z",
     "start_time": "2023-05-16T08:23:36.054885Z"
    },
    "scrolled": true
   },
   "outputs": [],
   "source": [
    "gdf300"
   ]
  },
  {
   "cell_type": "code",
   "execution_count": null,
   "id": "8f71ce55",
   "metadata": {
    "ExecuteTime": {
     "end_time": "2023-05-17T02:24:24.255209Z",
     "start_time": "2023-05-17T02:24:24.117298Z"
    }
   },
   "outputs": [],
   "source": [
    "gdf_school = gpd.read_file(\"../result/전라북도 학교 최단거리.gpkg\", encoding = \"cp949\")"
   ]
  },
  {
   "cell_type": "code",
   "execution_count": null,
   "id": "817f77b3",
   "metadata": {
    "ExecuteTime": {
     "end_time": "2023-05-17T02:24:27.096397Z",
     "start_time": "2023-05-17T02:24:27.058342Z"
    },
    "scrolled": true
   },
   "outputs": [],
   "source": [
    "gdf_school"
   ]
  },
  {
   "cell_type": "code",
   "execution_count": null,
   "id": "6fdf7ba0",
   "metadata": {
    "ExecuteTime": {
     "end_time": "2023-05-17T02:25:35.106223Z",
     "start_time": "2023-05-17T02:25:35.096821Z"
    }
   },
   "outputs": [],
   "source": [
    "gdf_school.rename(columns = {'HubName' : '학교명'}, inplace = True)\n",
    "gdf_school.rename(columns = {'HubDist' : '최단학교거리(m)'}, inplace = True)"
   ]
  },
  {
   "cell_type": "code",
   "execution_count": null,
   "id": "c71aa966",
   "metadata": {
    "ExecuteTime": {
     "end_time": "2023-05-17T02:29:18.464421Z",
     "start_time": "2023-05-17T02:29:18.447433Z"
    }
   },
   "outputs": [],
   "source": [
    "gdf_school.rename(columns = {'학교명' : '최단거리 학교명'}, inplace = True)"
   ]
  },
  {
   "cell_type": "code",
   "execution_count": null,
   "id": "6ea8fcc6",
   "metadata": {
    "ExecuteTime": {
     "end_time": "2023-05-17T02:26:48.497151Z",
     "start_time": "2023-05-17T02:26:48.488300Z"
    },
    "scrolled": true
   },
   "outputs": [],
   "source": [
    "gdf_school = gdf_school[['index','학교명','최단학교거리(m)']]"
   ]
  },
  {
   "cell_type": "code",
   "execution_count": null,
   "id": "8b78b5bd",
   "metadata": {
    "ExecuteTime": {
     "end_time": "2023-05-17T02:29:21.418100Z",
     "start_time": "2023-05-17T02:29:21.397030Z"
    },
    "scrolled": true
   },
   "outputs": [],
   "source": [
    "gdf_school"
   ]
  },
  {
   "cell_type": "code",
   "execution_count": null,
   "id": "39bc1853",
   "metadata": {
    "ExecuteTime": {
     "end_time": "2023-05-17T04:08:58.337001Z",
     "start_time": "2023-05-17T04:08:57.920930Z"
    }
   },
   "outputs": [],
   "source": [
    "df300 = pd.read_csv(\"../result/공공야간약국_분석결과_zscore포함_300m.csv\", encoding = \"cp949\", index_col = 0)\n",
    "df500 = pd.read_csv(\"../result/공공야간약국_분석결과_zscore포함_500m.csv\", encoding = \"cp949\", index_col = 0)\n",
    "df1000 = pd.read_csv(\"../result/공공야간약국_분석결과_zscore포함_1km.csv\", encoding = \"cp949\", index_col = 0)\n",
    "gdf300 = gpd.read_file(\"../result/공공야간약국_분석결과_zscore포함_300m(geofile).gpkg\", encoding = \"cp949\", index_col = 0)\n",
    "gdf500 = gpd.read_file(\"../result/공공야간약국_분석결과_zscore포함_500m(geofile).gpkg\", encoding = \"cp949\", index_col = 0)\n",
    "gdf1000 = gpd.read_file(\"../result/공공야간약국_분석결과_zscore포함_1km(geofile).gpkg\", encoding = \"cp949\", index_col = 0)"
   ]
  },
  {
   "cell_type": "code",
   "execution_count": null,
   "id": "4b063121",
   "metadata": {
    "ExecuteTime": {
     "end_time": "2023-05-17T04:18:22.591842Z",
     "start_time": "2023-05-17T04:18:22.552738Z"
    },
    "scrolled": true
   },
   "outputs": [],
   "source": [
    "gdf1000"
   ]
  },
  {
   "cell_type": "code",
   "execution_count": null,
   "id": "0c630c64",
   "metadata": {
    "ExecuteTime": {
     "end_time": "2023-05-17T04:10:43.083603Z",
     "start_time": "2023-05-17T04:10:43.034451Z"
    }
   },
   "outputs": [],
   "source": [
    "df300 = df300.merge(gdf_school, on = \"index\", how = \"inner\")\n",
    "df500 = df500.merge(gdf_school, on = \"index\", how = \"inner\")\n",
    "df1000 = df1000.merge(gdf_school, on = \"index\", how = \"inner\")\n",
    "gdf300 = gdf300.merge(gdf_school, on = \"index\", how = \"inner\")\n",
    "gdf500 = gdf500.merge(gdf_school, on = \"index\", how = \"inner\")\n",
    "gdf1000 = gdf1000.merge(gdf_school, on = \"index\", how = \"inner\")"
   ]
  },
  {
   "cell_type": "code",
   "execution_count": null,
   "id": "9d355a1e",
   "metadata": {
    "ExecuteTime": {
     "end_time": "2023-05-17T04:17:01.190770Z",
     "start_time": "2023-05-17T04:17:01.152517Z"
    },
    "scrolled": true
   },
   "outputs": [],
   "source": [
    "gdf1000.sort_values(by = ['최단학교거리(m)'])"
   ]
  },
  {
   "cell_type": "code",
   "execution_count": null,
   "id": "4862125c",
   "metadata": {
    "ExecuteTime": {
     "end_time": "2023-05-17T04:13:03.100497Z",
     "start_time": "2023-05-17T04:13:03.097491Z"
    }
   },
   "outputs": [],
   "source": [
    "add = \"C:/Users/user/Desktop/workplace/result/\""
   ]
  },
  {
   "cell_type": "code",
   "execution_count": null,
   "id": "bfdbe750",
   "metadata": {
    "ExecuteTime": {
     "end_time": "2023-05-17T04:13:48.404170Z",
     "start_time": "2023-05-17T04:13:48.222440Z"
    }
   },
   "outputs": [],
   "source": [
    "df300.to_csv(add + \"공공야간약국_분석결과_zscore포함_300m.csv\", encoding = \"cp949\")\n",
    "df500.to_csv(add + \"공공야간약국_분석결과_zscore포함_500m.csv\", encoding = \"cp949\")\n",
    "df1000.to_csv(add + \"공공야간약국_분석결과_zscore포함_1km.csv\", encoding = \"cp949\")"
   ]
  },
  {
   "cell_type": "code",
   "execution_count": null,
   "id": "50424c04",
   "metadata": {
    "ExecuteTime": {
     "end_time": "2023-05-17T04:17:29.834440Z",
     "start_time": "2023-05-17T04:17:27.746644Z"
    }
   },
   "outputs": [],
   "source": [
    "gdf300.to_file(add + \"공공야간약국_분석결과_zscore포함_300m(geofile).gpkg\", encoding = \"cp949\")\n",
    "gdf500.to_file(add + \"공공야간약국_분석결과_zscore포함_500m(geofile).gpkg\", encoding = \"cp949\")\n",
    "gdf1000.to_file(add + \"공공야간약국_분석결과_zscore포함_1km(geofile).gpkg\", encoding = \"cp949\")"
   ]
  },
  {
   "cell_type": "code",
   "execution_count": null,
   "id": "55bb1545",
   "metadata": {
    "ExecuteTime": {
     "end_time": "2023-05-17T04:24:45.580441Z",
     "start_time": "2023-05-17T04:24:45.528904Z"
    },
    "scrolled": true
   },
   "outputs": [],
   "source": [
    "gdf500"
   ]
  },
  {
   "cell_type": "code",
   "execution_count": null,
   "id": "0308743d",
   "metadata": {
    "ExecuteTime": {
     "end_time": "2023-05-17T04:30:33.359589Z",
     "start_time": "2023-05-17T04:30:33.324481Z"
    },
    "scrolled": true
   },
   "outputs": [],
   "source": [
    "df300"
   ]
  },
  {
   "cell_type": "code",
   "execution_count": null,
   "id": "70c9fcaf",
   "metadata": {
    "ExecuteTime": {
     "end_time": "2023-05-17T04:32:35.345022Z",
     "start_time": "2023-05-17T04:32:35.327339Z"
    }
   },
   "outputs": [],
   "source": [
    "gdf500.columns"
   ]
  },
  {
   "cell_type": "code",
   "execution_count": null,
   "id": "a42bc6e2",
   "metadata": {
    "ExecuteTime": {
     "end_time": "2023-05-17T04:35:24.574169Z",
     "start_time": "2023-05-17T04:35:24.515386Z"
    }
   },
   "outputs": [],
   "source": [
    "df_lst = [df300, df500, df1000, gdf300, gdf500, gdf1000]\n",
    "\n",
    "for i in range(len(df_lst)):\n",
    "    df = df_lst[i]\n",
    "    df['zscore(최단학교거리)'] = (df['최단학교거리(m)'] - df['최단학교거리(m)'].mean())/df['최단학교거리(m)'].std(ddof=0)\n",
    "    df['zscore_mean'] = (df['zscore(생활인구)'] + df['zscore(세대수)'] - df['zscore(정류소거리)'] - df['zscore(최단거리병원)'] - df['zscore(최단학교거리)'])/5\n",
    "    df['최단학교거리(m) Percentile'] = 1 - (df['최단학교거리(m)'].rank(pct = True))\n",
    "    df['Percentile Mean'] = (df['최단거리병원(m) Percentile'] + df['세대수 Percentile'] + df['취약계층 인구수(노년층 + 유아층) Percentile'] + df['최단거리정류소(m) Percentile'] + df['최단학교거리(m) Percentile'])/5\n",
    "    df['Decile_rank'] = pd.qcut(df['Percentile Mean'],10,labels = False)"
   ]
  },
  {
   "cell_type": "code",
   "execution_count": null,
   "id": "ca66d2d7",
   "metadata": {
    "ExecuteTime": {
     "end_time": "2023-05-17T04:40:18.732615Z",
     "start_time": "2023-05-17T04:40:18.714829Z"
    },
    "scrolled": true
   },
   "outputs": [],
   "source": [
    "df300.columns"
   ]
  },
  {
   "cell_type": "code",
   "execution_count": null,
   "id": "30de64fd",
   "metadata": {
    "ExecuteTime": {
     "end_time": "2023-05-17T04:42:48.711965Z",
     "start_time": "2023-05-17T04:42:48.685364Z"
    }
   },
   "outputs": [],
   "source": [
    "df300.drop(columns = ['zscore(생활인구)','zscore(세대수)','zscore(정류소거리)','zscore_mean','zscore(최단거리병원)','zscore(최단학교거리)'], inplace = True)\n",
    "df500.drop(columns = ['zscore(생활인구)','zscore(세대수)','zscore(정류소거리)','zscore_mean','zscore(최단거리병원)','zscore(최단학교거리)'], inplace = True)\n",
    "df1000.drop(columns = ['zscore(생활인구)','zscore(세대수)','zscore(정류소거리)','zscore_mean','zscore(최단거리병원)','zscore(최단학교거리)'], inplace = True)\n",
    "gdf300.drop(columns = ['zscore(생활인구)','zscore(세대수)','zscore(정류소거리)','zscore_mean','zscore(최단거리병원)','zscore(최단학교거리)'], inplace = True)\n",
    "gdf500.drop(columns = ['zscore(생활인구)','zscore(세대수)','zscore(정류소거리)','zscore_mean','zscore(최단거리병원)','zscore(최단학교거리)'], inplace = True)\n",
    "gdf1000.drop(columns = ['zscore(생활인구)','zscore(세대수)','zscore(정류소거리)','zscore_mean','zscore(최단거리병원)','zscore(최단학교거리)'], inplace = True)"
   ]
  },
  {
   "cell_type": "code",
   "execution_count": null,
   "id": "02f3e734",
   "metadata": {
    "ExecuteTime": {
     "end_time": "2023-05-17T04:42:51.705971Z",
     "start_time": "2023-05-17T04:42:51.695611Z"
    },
    "scrolled": true
   },
   "outputs": [],
   "source": [
    "df300.columns"
   ]
  },
  {
   "cell_type": "code",
   "execution_count": null,
   "id": "12f89961",
   "metadata": {
    "ExecuteTime": {
     "end_time": "2023-05-17T05:02:00.273290Z",
     "start_time": "2023-05-17T05:02:00.253827Z"
    }
   },
   "outputs": [],
   "source": [
    "gdf1000['시군구 별 Decile_rank']"
   ]
  },
  {
   "cell_type": "code",
   "execution_count": null,
   "id": "f8756017",
   "metadata": {
    "ExecuteTime": {
     "end_time": "2023-05-17T05:02:15.294917Z",
     "start_time": "2023-05-17T05:02:15.255784Z"
    },
    "scrolled": true
   },
   "outputs": [],
   "source": [
    "tmp.info()"
   ]
  },
  {
   "cell_type": "code",
   "execution_count": null,
   "id": "520d1bc5",
   "metadata": {
    "ExecuteTime": {
     "end_time": "2023-05-17T05:01:17.493600Z",
     "start_time": "2023-05-17T05:01:17.330818Z"
    },
    "scrolled": true
   },
   "outputs": [],
   "source": [
    "gdf6 = gpd.GeoDataFrame()\n",
    "\n",
    "sg_lst = ['군산시', '전주완산구', '전주덕진구', '익산시', '완주군', '남원시', '김제시', '정읍시', '부안군',\n",
    "       '무주군', '순창군', '고창군', '임실군', '진안군', '장수군']\n",
    "\n",
    "for i in range(len(sg_lst)):\n",
    "    tmp = gdf300[gdf300['시군구코드명'] == sg_lst[i]]\n",
    "    tmp['시군구 별 Decile_rank'] = pd.qcut(tmp['Percentile Mean'],10,labels = False)\n",
    "    gdf6 = gdf6.append(tmp)"
   ]
  },
  {
   "cell_type": "code",
   "execution_count": null,
   "id": "12655b89",
   "metadata": {
    "ExecuteTime": {
     "end_time": "2023-05-17T07:04:29.500097Z",
     "start_time": "2023-05-17T07:04:29.352556Z"
    }
   },
   "outputs": [],
   "source": [
    "df300 = pd.read_csv(\"../result/공공야간약국_분석결과_zscore포함_300m_v0.2.csv\", encoding = \"cp949\", index_col = 0)\n",
    "df500 = pd.read_csv(\"../result/공공야간약국_분석결과_zscore포함_500m_v0.2.csv\", encoding = \"cp949\", index_col = 0)\n",
    "df1000 = pd.read_csv(\"../result/공공야간약국_분석결과_zscore포함_1km_v0.2.csv\", encoding = \"cp949\", index_col = 0)"
   ]
  },
  {
   "cell_type": "code",
   "execution_count": null,
   "id": "b5b134ac",
   "metadata": {
    "ExecuteTime": {
     "end_time": "2023-05-17T07:04:29.864587Z",
     "start_time": "2023-05-17T07:04:29.849006Z"
    }
   },
   "outputs": [],
   "source": [
    "print(len(df300.columns))\n",
    "print(len(df500.columns))\n",
    "print(len(df1000.columns))"
   ]
  },
  {
   "cell_type": "code",
   "execution_count": null,
   "id": "39b8125f",
   "metadata": {
    "ExecuteTime": {
     "end_time": "2023-05-17T07:04:30.197119Z",
     "start_time": "2023-05-17T07:04:30.185411Z"
    }
   },
   "outputs": [],
   "source": [
    "df300.columns"
   ]
  },
  {
   "cell_type": "code",
   "execution_count": null,
   "id": "5cb343ee",
   "metadata": {
    "ExecuteTime": {
     "end_time": "2023-05-17T07:04:31.096306Z",
     "start_time": "2023-05-17T07:04:31.075374Z"
    }
   },
   "outputs": [],
   "source": [
    "df500.columns"
   ]
  },
  {
   "cell_type": "code",
   "execution_count": null,
   "id": "b3156ec8",
   "metadata": {
    "ExecuteTime": {
     "end_time": "2023-05-17T07:04:31.647817Z",
     "start_time": "2023-05-17T07:04:31.639552Z"
    }
   },
   "outputs": [],
   "source": [
    "df1000.columns"
   ]
  },
  {
   "cell_type": "code",
   "execution_count": null,
   "id": "7f5d0df1",
   "metadata": {
    "ExecuteTime": {
     "end_time": "2023-05-17T07:04:39.938153Z",
     "start_time": "2023-05-17T07:04:39.878010Z"
    },
    "scrolled": true
   },
   "outputs": [],
   "source": [
    "gdf300"
   ]
  },
  {
   "cell_type": "code",
   "execution_count": null,
   "id": "3e623d11",
   "metadata": {
    "ExecuteTime": {
     "end_time": "2023-05-17T06:56:15.438848Z",
     "start_time": "2023-05-17T06:56:15.426606Z"
    }
   },
   "outputs": [],
   "source": [
    "print(len(df300))\n",
    "print(len(df500))\n",
    "print(len(df1000))"
   ]
  },
  {
   "cell_type": "code",
   "execution_count": null,
   "id": "c9cb1627",
   "metadata": {
    "ExecuteTime": {
     "end_time": "2023-05-17T05:22:36.214903Z",
     "start_time": "2023-05-17T05:22:35.906675Z"
    }
   },
   "outputs": [],
   "source": [
    "gdf300 = gpd.read_file(\"../result/공공야간약국_분석결과_zscore포함_300m(geofile).gpkg\", encoding = \"cp949\", index_col = 0)\n",
    "gdf500 = gpd.read_file(\"../result/공공야간약국_분석결과_zscore포함_500m(geofile).gpkg\", encoding = \"cp949\", index_col = 0)\n",
    "gdf1000 = gpd.read_file(\"../result/공공야간약국_분석결과_zscore포함_1km(geofile).gpkg\", encoding = \"cp949\", index_col = 0)"
   ]
  },
  {
   "cell_type": "code",
   "execution_count": null,
   "id": "19199375",
   "metadata": {
    "ExecuteTime": {
     "end_time": "2023-05-17T05:20:00.203003Z",
     "start_time": "2023-05-17T05:20:00.150589Z"
    },
    "scrolled": true
   },
   "outputs": [],
   "source": [
    "gdf1000"
   ]
  },
  {
   "cell_type": "code",
   "execution_count": null,
   "id": "224fc757",
   "metadata": {
    "ExecuteTime": {
     "end_time": "2023-05-17T07:05:49.590375Z",
     "start_time": "2023-05-17T07:05:49.582004Z"
    }
   },
   "outputs": [],
   "source": [
    "print(len(gdf300.columns))\n",
    "print(len(gdf500.columns))\n",
    "print(len(gdf1000.columns))"
   ]
  },
  {
   "cell_type": "code",
   "execution_count": null,
   "id": "ac4ebbbc",
   "metadata": {
    "ExecuteTime": {
     "end_time": "2023-05-17T05:22:13.697291Z",
     "start_time": "2023-05-17T05:22:13.686075Z"
    }
   },
   "outputs": [],
   "source": [
    "df300.columns"
   ]
  },
  {
   "cell_type": "code",
   "execution_count": null,
   "id": "396e2427",
   "metadata": {
    "ExecuteTime": {
     "end_time": "2023-05-17T05:22:00.073917Z",
     "start_time": "2023-05-17T05:22:00.057910Z"
    }
   },
   "outputs": [],
   "source": [
    "df300.drop(columns = 'fid', inplace = True)"
   ]
  },
  {
   "cell_type": "code",
   "execution_count": null,
   "id": "011e5be9",
   "metadata": {
    "ExecuteTime": {
     "end_time": "2023-05-17T05:22:06.231684Z",
     "start_time": "2023-05-17T05:22:06.218439Z"
    }
   },
   "outputs": [],
   "source": [
    "len(df300.columns)"
   ]
  },
  {
   "cell_type": "code",
   "execution_count": null,
   "id": "1d0260d1",
   "metadata": {
    "ExecuteTime": {
     "end_time": "2023-05-17T05:07:33.923343Z",
     "start_time": "2023-05-17T05:07:33.902570Z"
    },
    "scrolled": true
   },
   "outputs": [],
   "source": [
    "df300.columns"
   ]
  },
  {
   "cell_type": "code",
   "execution_count": null,
   "id": "c98c9fbe",
   "metadata": {
    "ExecuteTime": {
     "end_time": "2023-05-17T05:22:23.993223Z",
     "start_time": "2023-05-17T05:22:23.979937Z"
    }
   },
   "outputs": [],
   "source": [
    "df300 = df300[['index','시군구 별 Decile_rank']]\n",
    "df500 = df500[['index','시군구 별 Decile_rank']]\n",
    "df1000 = df1000[['index','시군구 별 Decile_rank']]"
   ]
  },
  {
   "cell_type": "code",
   "execution_count": null,
   "id": "9cb522b4",
   "metadata": {
    "ExecuteTime": {
     "end_time": "2023-05-17T05:22:25.774944Z",
     "start_time": "2023-05-17T05:22:25.761724Z"
    }
   },
   "outputs": [],
   "source": [
    "gdf300"
   ]
  },
  {
   "cell_type": "code",
   "execution_count": null,
   "id": "9e3ca52e",
   "metadata": {
    "ExecuteTime": {
     "end_time": "2023-05-17T05:23:39.245548Z",
     "start_time": "2023-05-17T05:23:39.234255Z"
    }
   },
   "outputs": [],
   "source": [
    "len(gdf300.columns)"
   ]
  },
  {
   "cell_type": "code",
   "execution_count": null,
   "id": "56213cb4",
   "metadata": {
    "ExecuteTime": {
     "end_time": "2023-05-17T05:31:45.943477Z",
     "start_time": "2023-05-17T05:31:45.936444Z"
    }
   },
   "outputs": [],
   "source": [
    "gdf300.columns"
   ]
  },
  {
   "cell_type": "code",
   "execution_count": null,
   "id": "d453856c",
   "metadata": {
    "ExecuteTime": {
     "end_time": "2023-05-17T05:36:22.780683Z",
     "start_time": "2023-05-17T05:36:22.768525Z"
    }
   },
   "outputs": [],
   "source": [
    "df300.columns"
   ]
  },
  {
   "cell_type": "code",
   "execution_count": null,
   "id": "74c6eca3",
   "metadata": {
    "ExecuteTime": {
     "end_time": "2023-05-17T05:37:51.784107Z",
     "start_time": "2023-05-17T05:37:51.773455Z"
    }
   },
   "outputs": [],
   "source": [
    "gdf300.HubDist"
   ]
  },
  {
   "cell_type": "code",
   "execution_count": null,
   "id": "00622781",
   "metadata": {
    "ExecuteTime": {
     "end_time": "2023-05-17T05:40:47.156835Z",
     "start_time": "2023-05-17T05:40:47.140445Z"
    }
   },
   "outputs": [],
   "source": [
    "gdf300['최단학교거리(m)']"
   ]
  },
  {
   "cell_type": "code",
   "execution_count": null,
   "id": "15a0da69",
   "metadata": {
    "ExecuteTime": {
     "end_time": "2023-05-17T05:42:36.851508Z",
     "start_time": "2023-05-17T05:42:36.838418Z"
    }
   },
   "outputs": [],
   "source": [
    "gdf500.columns"
   ]
  },
  {
   "cell_type": "code",
   "execution_count": null,
   "id": "c1cbd2be",
   "metadata": {
    "ExecuteTime": {
     "end_time": "2023-05-17T05:44:20.395065Z",
     "start_time": "2023-05-17T05:44:20.381600Z"
    }
   },
   "outputs": [],
   "source": [
    "gdf300.drop(columns = ['zscore(생활인구)', 'zscore(세대수)','zscore(정류소거리)', 'zscore_mean','zscore(최단거리병원)'], inplace = True)\n",
    "gdf500.drop(columns = ['zscore(생활인구)', 'zscore(세대수)','zscore(정류소거리)', 'zscore_mean','zscore(최단거리병원)'], inplace = True)\n",
    "gdf1000.drop(columns = ['zscore(생활인구)', 'zscore(세대수)','zscore(정류소거리)', 'zscore_mean','zscore(최단거리병원)'], inplace = True)"
   ]
  },
  {
   "cell_type": "code",
   "execution_count": null,
   "id": "4bb9b095",
   "metadata": {
    "ExecuteTime": {
     "end_time": "2023-05-17T05:55:27.346192Z",
     "start_time": "2023-05-17T05:55:27.334671Z"
    }
   },
   "outputs": [],
   "source": [
    "print(len(df300.columns))\n",
    "print(len(df500.columns))\n",
    "print(len(df1000.columns))"
   ]
  },
  {
   "cell_type": "code",
   "execution_count": null,
   "id": "b7b66831",
   "metadata": {
    "ExecuteTime": {
     "end_time": "2023-05-17T05:57:18.370794Z",
     "start_time": "2023-05-17T05:57:18.362370Z"
    }
   },
   "outputs": [],
   "source": [
    "df500.columns"
   ]
  },
  {
   "cell_type": "code",
   "execution_count": null,
   "id": "975fe3e8",
   "metadata": {
    "ExecuteTime": {
     "end_time": "2023-05-17T05:59:26.465276Z",
     "start_time": "2023-05-17T05:59:26.456806Z"
    }
   },
   "outputs": [],
   "source": [
    "df300 = df300[['index','야간약국 여부','연중무휴약국 여부']]\n",
    "df500 = df500[['index','야간약국 여부','연중무휴약국 여부']]\n",
    "df1000 = df1000[['index','야간약국 여부','연중무휴약국 여부']]"
   ]
  },
  {
   "cell_type": "code",
   "execution_count": null,
   "id": "e2d7171d",
   "metadata": {
    "ExecuteTime": {
     "end_time": "2023-05-17T05:53:26.208465Z",
     "start_time": "2023-05-17T05:53:26.197429Z"
    }
   },
   "outputs": [],
   "source": [
    "print(len(gdf300.columns))\n",
    "print(len(gdf500.columns))\n",
    "print(len(gdf1000.columns))"
   ]
  },
  {
   "cell_type": "code",
   "execution_count": null,
   "id": "d409eeef",
   "metadata": {
    "ExecuteTime": {
     "end_time": "2023-05-17T05:59:43.741082Z",
     "start_time": "2023-05-17T05:59:43.731458Z"
    }
   },
   "outputs": [],
   "source": [
    "gdf500.columns"
   ]
  },
  {
   "cell_type": "code",
   "execution_count": null,
   "id": "a10aa5a8",
   "metadata": {
    "ExecuteTime": {
     "end_time": "2023-05-17T05:59:44.066578Z",
     "start_time": "2023-05-17T05:59:44.058363Z"
    }
   },
   "outputs": [],
   "source": [
    "gdf1000.columns"
   ]
  },
  {
   "cell_type": "code",
   "execution_count": null,
   "id": "de3a54b5",
   "metadata": {
    "ExecuteTime": {
     "end_time": "2023-05-17T05:59:44.332727Z",
     "start_time": "2023-05-17T05:59:44.319201Z"
    }
   },
   "outputs": [],
   "source": [
    "gdf300.columns"
   ]
  },
  {
   "cell_type": "code",
   "execution_count": null,
   "id": "234440de",
   "metadata": {
    "ExecuteTime": {
     "end_time": "2023-05-17T05:53:11.777270Z",
     "start_time": "2023-05-17T05:53:11.757226Z"
    }
   },
   "outputs": [],
   "source": [
    "gdf300.drop(columns = ['HubDist','시군구 별 Decile_rank'], inplace = True)\n",
    "gdf500.drop(columns = ['시군구 별 Decile_rank'], inplace = True)\n",
    "gdf1000.drop(columns = ['시군구 별 Decile_rank'], inplace = True)"
   ]
  },
  {
   "cell_type": "code",
   "execution_count": null,
   "id": "0d388db4",
   "metadata": {
    "ExecuteTime": {
     "end_time": "2023-05-17T05:46:15.601682Z",
     "start_time": "2023-05-17T05:46:15.568059Z"
    }
   },
   "outputs": [],
   "source": [
    "gdf500[['geometry_x','geometry']]"
   ]
  },
  {
   "cell_type": "code",
   "execution_count": null,
   "id": "2798f6ee",
   "metadata": {
    "ExecuteTime": {
     "end_time": "2023-05-17T06:01:23.957541Z",
     "start_time": "2023-05-17T06:01:23.938709Z"
    }
   },
   "outputs": [],
   "source": [
    "print(len(df300.columns))\n",
    "print(len(df500.columns))\n",
    "print(len(df1000.columns))"
   ]
  },
  {
   "cell_type": "code",
   "execution_count": null,
   "id": "ff72c66f",
   "metadata": {
    "ExecuteTime": {
     "end_time": "2023-05-17T06:01:16.766417Z",
     "start_time": "2023-05-17T06:01:16.748553Z"
    }
   },
   "outputs": [],
   "source": [
    "print(len(gdf300.columns))\n",
    "print(len(gdf500.columns))\n",
    "print(len(gdf1000.columns))"
   ]
  },
  {
   "cell_type": "code",
   "execution_count": null,
   "id": "9434ea8d",
   "metadata": {
    "ExecuteTime": {
     "end_time": "2023-05-17T05:23:53.126658Z",
     "start_time": "2023-05-17T05:23:53.113607Z"
    }
   },
   "outputs": [],
   "source": [
    "len(gdf1000.columns)"
   ]
  },
  {
   "cell_type": "code",
   "execution_count": null,
   "id": "7635e46a",
   "metadata": {},
   "outputs": [],
   "source": []
  },
  {
   "cell_type": "code",
   "execution_count": null,
   "id": "11a280bf",
   "metadata": {
    "ExecuteTime": {
     "end_time": "2023-05-17T05:59:34.350654Z",
     "start_time": "2023-05-17T05:59:34.314604Z"
    },
    "scrolled": true
   },
   "outputs": [],
   "source": [
    "gdf300 = gdf300.merge(df300, on = \"index\", how = \"inner\")\n",
    "gdf500 = gdf500.merge(df500, on = \"index\", how = \"inner\")\n",
    "gdf1000 = gdf1000.merge(df1000, on = \"index\", how = \"inner\")"
   ]
  },
  {
   "cell_type": "code",
   "execution_count": null,
   "id": "6285ac0a",
   "metadata": {
    "ExecuteTime": {
     "end_time": "2023-05-17T05:53:21.955688Z",
     "start_time": "2023-05-17T05:53:21.943373Z"
    },
    "scrolled": true
   },
   "outputs": [],
   "source": [
    "gdf500.columns"
   ]
  },
  {
   "cell_type": "code",
   "execution_count": null,
   "id": "ffc3b4ef",
   "metadata": {
    "ExecuteTime": {
     "end_time": "2023-05-17T05:16:49.065318Z",
     "start_time": "2023-05-17T05:16:49.046367Z"
    }
   },
   "outputs": [],
   "source": [
    "gdf300.columns"
   ]
  },
  {
   "cell_type": "code",
   "execution_count": null,
   "id": "0176461e",
   "metadata": {
    "ExecuteTime": {
     "end_time": "2023-05-17T05:00:14.308007Z",
     "start_time": "2023-05-17T05:00:14.298374Z"
    }
   },
   "outputs": [],
   "source": [
    "len(df5)"
   ]
  },
  {
   "cell_type": "code",
   "execution_count": null,
   "id": "a3af1ec7",
   "metadata": {
    "ExecuteTime": {
     "end_time": "2023-05-17T05:00:16.479346Z",
     "start_time": "2023-05-17T05:00:16.445992Z"
    },
    "scrolled": true
   },
   "outputs": [],
   "source": [
    "df5"
   ]
  },
  {
   "cell_type": "code",
   "execution_count": null,
   "id": "64a07bf5",
   "metadata": {
    "ExecuteTime": {
     "end_time": "2023-05-17T05:00:35.108026Z",
     "start_time": "2023-05-17T05:00:35.031735Z"
    }
   },
   "outputs": [],
   "source": [
    "df5.to_csv(add + \"공공야간약국_분석결과_zscore포함_1km_v0.2.csv\", encoding = \"cp949\")"
   ]
  },
  {
   "cell_type": "code",
   "execution_count": null,
   "id": "db91b324",
   "metadata": {
    "ExecuteTime": {
     "end_time": "2023-05-17T04:55:49.021459Z",
     "start_time": "2023-05-17T04:55:48.336579Z"
    },
    "scrolled": true
   },
   "outputs": [],
   "source": [
    "df30 = pd.DataFrame()\n",
    "df50 = pd.DataFrame()\n",
    "df100 = pd.DataFrame()\n",
    "gdf30 = gpd.GeoDataFrame()\n",
    "gdf50 = gpd.GeoDataFrame()\n",
    "gdf100 = gpd.GeoDataFrame()\n",
    "\n",
    "df_lst = [df300, df500, df1000, gdf300, gdf500, gdf1000]\n",
    "\n",
    "sg_lst = ['군산시', '전주완산구', '전주덕진구', '익산시', '완주군', '남원시', '김제시', '정읍시', '부안군',\n",
    "       '무주군', '순창군', '고창군', '임실군', '진안군', '장수군']\n",
    "\n",
    "tmp_lst = [df30, df50, df100, gdf30, gdf50, gdf100]\n",
    "\n",
    "for i in range(len(df_lst)):\n",
    "    df = df_lst[i]\n",
    "    for j in range(len(sg_lst)):\n",
    "        tmp = df[df['시군구코드명'] == sg_lst[j]]\n",
    "        tmp['시군구 별 Decile_rank'] = pd.qcut(tmp['Percentile Mean'],10,labels = False)\n",
    "        for k in range(len(tmp_lst)):\n",
    "            tmp_lst[k] = tmp_lst[k].append(tmp)\n",
    "            "
   ]
  },
  {
   "cell_type": "code",
   "execution_count": null,
   "id": "e35469e8",
   "metadata": {
    "ExecuteTime": {
     "end_time": "2023-05-17T06:05:44.598893Z",
     "start_time": "2023-05-17T06:05:44.556703Z"
    },
    "scrolled": true
   },
   "outputs": [],
   "source": [
    "gdf300"
   ]
  },
  {
   "cell_type": "code",
   "execution_count": null,
   "id": "59167e60",
   "metadata": {
    "ExecuteTime": {
     "end_time": "2023-05-17T07:45:40.240124Z",
     "start_time": "2023-05-17T07:45:40.213122Z"
    }
   },
   "outputs": [],
   "source": [
    "gdf300.to_file(add + \"공공야간약국_분석결과_zscore포함_300m(geofile)_v0.2.gpkg\", driver = \"GPKG\", encoding = \"cp949\")\n",
    "gdf500.to_file(add + \"공공야간약국_분석결과_zscore포함_500m(geofile)_v0.2.gpkg\", driver = \"GPKG\", encoding = \"cp949\")\n",
    "gdf1000.to_file(add + \"공공야간약국_분석결과_zscore포함_1km(geofile)_v0.2.gpkg\", driver = \"GPKG\", encoding = \"cp949\")"
   ]
  },
  {
   "cell_type": "code",
   "execution_count": null,
   "id": "c7375f57",
   "metadata": {
    "ExecuteTime": {
     "end_time": "2023-05-17T07:41:27.387681Z",
     "start_time": "2023-05-17T07:41:26.909053Z"
    }
   },
   "outputs": [],
   "source": [
    "print(len(gdf300.columns))\n",
    "print(len(gdf500.columns))\n",
    "print(len(gdf1000.columns))"
   ]
  },
  {
   "cell_type": "code",
   "execution_count": null,
   "id": "005c8535",
   "metadata": {
    "ExecuteTime": {
     "end_time": "2023-05-17T06:12:46.754347Z",
     "start_time": "2023-05-17T06:12:46.738576Z"
    }
   },
   "outputs": [],
   "source": [
    "gdf300.columns"
   ]
  },
  {
   "cell_type": "code",
   "execution_count": null,
   "id": "feb17376",
   "metadata": {
    "ExecuteTime": {
     "end_time": "2023-05-17T06:12:51.630242Z",
     "start_time": "2023-05-17T06:12:51.611239Z"
    }
   },
   "outputs": [],
   "source": [
    "gdf500.columns"
   ]
  },
  {
   "cell_type": "code",
   "execution_count": null,
   "id": "fa0b3425",
   "metadata": {
    "ExecuteTime": {
     "end_time": "2023-05-17T06:12:56.377477Z",
     "start_time": "2023-05-17T06:12:56.365419Z"
    }
   },
   "outputs": [],
   "source": [
    "gdf1000.columns"
   ]
  },
  {
   "cell_type": "code",
   "execution_count": null,
   "id": "5fbe24f7",
   "metadata": {
    "ExecuteTime": {
     "end_time": "2023-05-17T06:11:14.416457Z",
     "start_time": "2023-05-17T06:11:14.402693Z"
    }
   },
   "outputs": [],
   "source": [
    "print(len(df300.columns))\n",
    "print(len(df500.columns))\n",
    "print(len(df1000.columns))"
   ]
  },
  {
   "cell_type": "code",
   "execution_count": null,
   "id": "5c64e41d",
   "metadata": {
    "ExecuteTime": {
     "end_time": "2023-05-17T06:10:13.203134Z",
     "start_time": "2023-05-17T06:10:13.186090Z"
    }
   },
   "outputs": [],
   "source": [
    "df300"
   ]
  },
  {
   "cell_type": "code",
   "execution_count": null,
   "id": "0ca69093",
   "metadata": {
    "ExecuteTime": {
     "end_time": "2023-05-17T06:11:13.202178Z",
     "start_time": "2023-05-17T06:11:13.193938Z"
    },
    "scrolled": true
   },
   "outputs": [],
   "source": [
    "df300.drop(columns = ['fid'], inplace = True)"
   ]
  },
  {
   "cell_type": "code",
   "execution_count": null,
   "id": "9a87b3cf",
   "metadata": {
    "ExecuteTime": {
     "end_time": "2023-05-17T06:09:32.815858Z",
     "start_time": "2023-05-17T06:09:32.806947Z"
    }
   },
   "outputs": [],
   "source": [
    "df500.columns"
   ]
  },
  {
   "cell_type": "code",
   "execution_count": null,
   "id": "836abfa1",
   "metadata": {
    "ExecuteTime": {
     "end_time": "2023-05-17T06:09:47.024930Z",
     "start_time": "2023-05-17T06:09:47.013981Z"
    }
   },
   "outputs": [],
   "source": [
    "df1000.columns"
   ]
  },
  {
   "cell_type": "code",
   "execution_count": null,
   "id": "b1098551",
   "metadata": {
    "ExecuteTime": {
     "end_time": "2023-05-17T06:11:20.148122Z",
     "start_time": "2023-05-17T06:11:20.132885Z"
    }
   },
   "outputs": [],
   "source": [
    "df300.columns"
   ]
  }
 ],
 "metadata": {
  "kernelspec": {
   "display_name": "Python 3 (ipykernel)",
   "language": "python",
   "name": "python3"
  },
  "language_info": {
   "codemirror_mode": {
    "name": "ipython",
    "version": 3
   },
   "file_extension": ".py",
   "mimetype": "text/x-python",
   "name": "python",
   "nbconvert_exporter": "python",
   "pygments_lexer": "ipython3",
   "version": "3.11.4"
  },
  "toc": {
   "base_numbering": 1,
   "nav_menu": {},
   "number_sections": true,
   "sideBar": true,
   "skip_h1_title": false,
   "title_cell": "Table of Contents",
   "title_sidebar": "Contents",
   "toc_cell": false,
   "toc_position": {},
   "toc_section_display": true,
   "toc_window_display": false
  }
 },
 "nbformat": 4,
 "nbformat_minor": 5
}
